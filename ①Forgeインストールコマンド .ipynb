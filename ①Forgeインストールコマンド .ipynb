{
 "cells": [
  {
   "cell_type": "markdown",
   "id": "9e42bc1e-9825-4587-b533-c74607b1a377",
   "metadata": {},
   "source": [
    "## Forgeインストールコマンド\n"
   ]
  },
  {
   "cell_type": "code",
   "execution_count": null,
   "id": "6381569a-51b4-4303-a623-7f0b70104889",
   "metadata": {
    "execution": {
     "iopub.execute_input": "2024-12-13T08:53:40.672673Z",
     "iopub.status.busy": "2024-12-13T08:53:40.671909Z",
     "iopub.status.idle": "2024-12-13T08:53:43.123563Z",
     "shell.execute_reply": "2024-12-13T08:53:43.122885Z",
     "shell.execute_reply.started": "2024-12-13T08:53:40.672634Z"
    }
   },
   "outputs": [],
   "source": [
    "# /tmpディレクトリに移動します\n",
    "%cd /tmp\n",
    "!git clone https://github.com/lllyasviel/stable-diffusion-webui-forge.git\n",
    "%cd /tmp/stable-diffusion-webui-forge\n",
    "!git apply --reject /usr/src/app/prediction.txt\n",
    "!sed -i '/import numpy as np/a\\from modules.shared import opts' /tmp/stable-diffusion-webui-forge/backend/modules/k_prediction.py\n",
    "\n"
   ]
  },
  {
   "cell_type": "code",
   "execution_count": null,
   "id": "c549702e-7e03-478a-9ccb-49d76de1d80e",
   "metadata": {
    "execution": {
     "iopub.execute_input": "2024-12-13T08:53:54.467832Z",
     "iopub.status.busy": "2024-12-13T08:53:54.467223Z"
    }
   },
   "outputs": [],
   "source": [
    "# /tmp/stable-diffusion-webuiディレクトリに移動してlaunch.pyを実行\n",
    "!cd /tmp/stable-diffusion-webui-forge && python3 launch.py --enable-insecure-extension-access --gradio-queue --share"
   ]
  }
 ],
 "metadata": {
  "kernelspec": {
   "display_name": "Python 3 (ipykernel)",
   "language": "python",
   "name": "python3"
  },
  "language_info": {
   "codemirror_mode": {
    "name": "ipython",
    "version": 3
   },
   "file_extension": ".py",
   "mimetype": "text/x-python",
   "name": "python",
   "nbconvert_exporter": "python",
   "pygments_lexer": "ipython3",
   "version": "3.10.12"
  }
 },
 "nbformat": 4,
 "nbformat_minor": 5
}
