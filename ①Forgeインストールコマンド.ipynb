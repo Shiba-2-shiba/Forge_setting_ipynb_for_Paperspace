{
 "cells": [
  {
   "cell_type": "markdown",
   "id": "9e42bc1e-9825-4587-b533-c74607b1a377",
   "metadata": {},
   "source": [
    "## モデルアニメ系\n"
   ]
  },
  {
   "cell_type": "code",
   "execution_count": 1,
   "id": "6381569a-51b4-4303-a623-7f0b70104889",
   "metadata": {
    "execution": {
     "iopub.execute_input": "2024-12-13T08:53:40.672673Z",
     "iopub.status.busy": "2024-12-13T08:53:40.671909Z",
     "iopub.status.idle": "2024-12-13T08:53:43.123563Z",
     "shell.execute_reply": "2024-12-13T08:53:43.122885Z",
     "shell.execute_reply.started": "2024-12-13T08:53:40.672634Z"
    }
   },
   "outputs": [
    {
     "name": "stdout",
     "output_type": "stream",
     "text": [
      "/tmp\n",
      "Cloning into 'stable-diffusion-webui-forge'...\n"
     ]
    },
    {
     "name": "stderr",
     "output_type": "stream",
     "text": [
      "/usr/local/lib/python3.10/dist-packages/IPython/core/magics/osm.py:417: UserWarning: This is now an optional IPython functionality, setting dhist requires you to install the `pickleshare` library.\n",
      "  self.shell.db['dhist'] = compress_dhist(dhist)[-100:]\n"
     ]
    },
    {
     "name": "stdout",
     "output_type": "stream",
     "text": [
      "remote: Enumerating objects: 41771, done.\u001b[K\n",
      "remote: Counting objects: 100% (10641/10641), done.\u001b[K\n",
      "remote: Compressing objects: 100% (762/762), done.\u001b[K\n",
      "remote: Total 41771 (delta 10040), reused 9890 (delta 9877), pack-reused 31130 (from 1)\u001b[K\n",
      "Receiving objects: 100% (41771/41771), 46.11 MiB | 53.53 MiB/s, done.\n",
      "Resolving deltas: 100% (29091/29091), done.\n",
      "/tmp/stable-diffusion-webui-forge\n",
      "Checking patch backend/modules/k_prediction.py...\n",
      "error: while searching for:\n",
      "import math\n",
      "import torch\n",
      "import numpy as np\n",
      "\n",
      "\n",
      "def betas_for_alpha_bar(num_diffusion_timesteps, alpha_bar, max_beta=0.999):\n",
      "\n",
      "error: patch failed: backend/modules/k_prediction.py:1\n",
      "Hunk #2 succeeded at 67 (offset 17 lines).\n",
      "Checking patch modules/shared_options.py...\n",
      "Hunk #1 succeeded at 392 (offset 2 lines).\n",
      "Applying patch backend/modules/k_prediction.py with 1 reject...\n",
      "Rejected hunk #1.\n",
      "Hunk #2 applied cleanly.\n",
      "Applied patch modules/shared_options.py cleanly.\n"
     ]
    }
   ],
   "source": [
    "# /tmpディレクトリに移動します\n",
    "%cd /tmp\n",
    "!git clone https://github.com/lllyasviel/stable-diffusion-webui-forge.git\n",
    "%cd /tmp/stable-diffusion-webui-forge\n",
    "!git apply --reject /usr/src/app/prediction.txt\n",
    "!sed -i '/import numpy as np/a\\from modules.shared import opts' /tmp/stable-diffusion-webui-forge/backend/modules/k_prediction.py\n",
    "\n"
   ]
  },
  {
   "cell_type": "code",
   "execution_count": null,
   "id": "c549702e-7e03-478a-9ccb-49d76de1d80e",
   "metadata": {
    "execution": {
     "iopub.execute_input": "2024-12-13T08:53:54.467832Z",
     "iopub.status.busy": "2024-12-13T08:53:54.467223Z"
    }
   },
   "outputs": [
    {
     "name": "stdout",
     "output_type": "stream",
     "text": [
      "Python 3.10.12 (main, Nov  6 2024, 20:22:13) [GCC 11.4.0]\n",
      "Version: f2.0.1v1.10.1-previous-633-ge073e4ec\n",
      "Commit hash: e073e4ec581c803cbc71003f6d3261d37ec43840\n",
      "Installing clip\n",
      "Installing open_clip\n",
      "Cloning assets into /tmp/stable-diffusion-webui-forge/repositories/stable-diffusion-webui-assets...\n",
      "Cloning into '/tmp/stable-diffusion-webui-forge/repositories/stable-diffusion-webui-assets'...\n",
      "remote: Enumerating objects: 20, done.\u001b[K\n",
      "remote: Counting objects: 100% (20/20), done.\u001b[K\n",
      "remote: Compressing objects: 100% (18/18), done.\u001b[K\n",
      "remote: Total 20 (delta 0), reused 20 (delta 0), pack-reused 0 (from 0)\u001b[K\n",
      "Receiving objects: 100% (20/20), 132.70 KiB | 6.32 MiB/s, done.\n",
      "Cloning huggingface_guess into /tmp/stable-diffusion-webui-forge/repositories/huggingface_guess...\n",
      "Cloning into '/tmp/stable-diffusion-webui-forge/repositories/huggingface_guess'...\n",
      "remote: Enumerating objects: 51, done.\u001b[K\n",
      "remote: Counting objects: 100% (51/51), done.\u001b[K\n",
      "remote: Compressing objects: 100% (38/38), done.\u001b[K\n",
      "remote: Total 51 (delta 29), reused 30 (delta 13), pack-reused 0 (from 0)\u001b[K\n",
      "Receiving objects: 100% (51/51), 36.58 KiB | 2.03 MiB/s, done.\n",
      "Resolving deltas: 100% (29/29), done.\n",
      "Cloning google_blockly into /tmp/stable-diffusion-webui-forge/repositories/google_blockly_prototypes...\n",
      "Cloning into '/tmp/stable-diffusion-webui-forge/repositories/google_blockly_prototypes'...\n",
      "remote: Enumerating objects: 62, done.\u001b[K\n",
      "remote: Counting objects: 100% (62/62), done.\u001b[K\n",
      "remote: Compressing objects: 100% (58/58), done.\u001b[K\n",
      "remote: Total 62 (delta 11), reused 52 (delta 1), pack-reused 0 (from 0)\u001b[K\n",
      "Receiving objects: 100% (62/62), 1.69 MiB | 36.85 MiB/s, done.\n",
      "Resolving deltas: 100% (11/11), done.\n",
      "Cloning BLIP into /tmp/stable-diffusion-webui-forge/repositories/BLIP...\n",
      "Cloning into '/tmp/stable-diffusion-webui-forge/repositories/BLIP'...\n",
      "remote: Enumerating objects: 277, done.\u001b[K\n",
      "remote: Counting objects: 100% (183/183), done.\u001b[K\n",
      "remote: Compressing objects: 100% (46/46), done.\u001b[K\n",
      "remote: Total 277 (delta 145), reused 137 (delta 137), pack-reused 94 (from 1)\u001b[K\n",
      "Receiving objects: 100% (277/277), 7.04 MiB | 54.17 MiB/s, done.\n",
      "Resolving deltas: 100% (152/152), done.\n",
      "Installing requirements\n"
     ]
    }
   ],
   "source": [
    "# /tmp/stable-diffusion-webuiディレクトリに移動してlaunch.pyを実行\n",
    "!cd /tmp/stable-diffusion-webui-forge && python3 launch.py --enable-insecure-extension-access --gradio-queue --share"
   ]
  }
 ],
 "metadata": {
  "kernelspec": {
   "display_name": "Python 3 (ipykernel)",
   "language": "python",
   "name": "python3"
  },
  "language_info": {
   "codemirror_mode": {
    "name": "ipython",
    "version": 3
   },
   "file_extension": ".py",
   "mimetype": "text/x-python",
   "name": "python",
   "nbconvert_exporter": "python",
   "pygments_lexer": "ipython3",
   "version": "3.10.12"
  }
 },
 "nbformat": 4,
 "nbformat_minor": 5
}
