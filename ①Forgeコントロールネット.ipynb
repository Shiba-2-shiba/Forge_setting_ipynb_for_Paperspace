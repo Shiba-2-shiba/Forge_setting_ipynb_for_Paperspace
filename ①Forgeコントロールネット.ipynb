{
 "cells": [
  {
   "cell_type": "code",
   "execution_count": 1,
   "id": "1d8d6536-e549-4930-a9c0-f78e9736b1dd",
   "metadata": {
    "execution": {
     "iopub.execute_input": "2024-11-20T05:33:38.342608Z",
     "iopub.status.busy": "2024-11-20T05:33:38.342103Z",
     "iopub.status.idle": "2024-11-20T05:35:04.925729Z",
     "shell.execute_reply": "2024-11-20T05:35:04.924973Z",
     "shell.execute_reply.started": "2024-11-20T05:33:38.342579Z"
    }
   },
   "outputs": [
    {
     "name": "stdout",
     "output_type": "stream",
     "text": [
      "--2024-11-20 05:33:38--  https://huggingface.co/lllyasviel/sd_control_collection/resolve/main/ip-adapter_xl.pth?download=true\n",
      "Resolving huggingface.co (huggingface.co)... 3.168.73.106, 3.168.73.111, 3.168.73.129, ...\n",
      "Connecting to huggingface.co (huggingface.co)|3.168.73.106|:443... connected.\n",
      "HTTP request sent, awaiting response... 302 Found\n",
      "Location: https://cdn-lfs.hf.co/repos/81/40/814074e4bf63cffbabe9980993334f8d53d66ee7207b7d9a482c916296779bd7/c2e9f1ed4ff231b9f78de8158d63ac4b031e599d26d524e9171ccb9c16305fc3?response-content-disposition=attachment%3B+filename*%3DUTF-8%27%27ip-adapter_xl.pth%3B+filename%3D%22ip-adapter_xl.pth%22%3B&Expires=1732340018&Policy=eyJTdGF0ZW1lbnQiOlt7IkNvbmRpdGlvbiI6eyJEYXRlTGVzc1RoYW4iOnsiQVdTOkVwb2NoVGltZSI6MTczMjM0MDAxOH19LCJSZXNvdXJjZSI6Imh0dHBzOi8vY2RuLWxmcy5oZi5jby9yZXBvcy84MS80MC84MTQwNzRlNGJmNjNjZmZiYWJlOTk4MDk5MzMzNGY4ZDUzZDY2ZWU3MjA3YjdkOWE0ODJjOTE2Mjk2Nzc5YmQ3L2MyZTlmMWVkNGZmMjMxYjlmNzhkZTgxNThkNjNhYzRiMDMxZTU5OWQyNmQ1MjRlOTE3MWNjYjljMTYzMDVmYzM%7EcmVzcG9uc2UtY29udGVudC1kaXNwb3NpdGlvbj0qIn1dfQ__&Signature=til9PwkQY0NHzsEHI6XEW-FbJwP7jTqtHFHAlp-QbY8JWbp8697dXhosF0Mp9v1g6khepu07rBDJ39C6lfX7404uyQF7HmpUGknZUHRCpirZhgOXDDGaMxiJlfUZEzje1EQIcHxrBUdBSMc7OuVd%7EMNyACDv0oRURvxrWvTC3lR9RCsCJIXtp4FSWPZeKSAPYNPtZSm-tJ-yII-Coe1loe5Am9sXnZjLmge3zPEa%7E7s0Hd7f-f48VfIa0fRuP%7Eqk1d5wAREa4UT3Zk-FtE6c9erlUttDw1EQCze2GAYTzR8U78LIRZhnk1fToqB%7E09QYWgvXgunUu3UU7WO3ZzDzUA__&Key-Pair-Id=K3RPWS32NSSJCE [following]\n",
      "--2024-11-20 05:33:38--  https://cdn-lfs.hf.co/repos/81/40/814074e4bf63cffbabe9980993334f8d53d66ee7207b7d9a482c916296779bd7/c2e9f1ed4ff231b9f78de8158d63ac4b031e599d26d524e9171ccb9c16305fc3?response-content-disposition=attachment%3B+filename*%3DUTF-8%27%27ip-adapter_xl.pth%3B+filename%3D%22ip-adapter_xl.pth%22%3B&Expires=1732340018&Policy=eyJTdGF0ZW1lbnQiOlt7IkNvbmRpdGlvbiI6eyJEYXRlTGVzc1RoYW4iOnsiQVdTOkVwb2NoVGltZSI6MTczMjM0MDAxOH19LCJSZXNvdXJjZSI6Imh0dHBzOi8vY2RuLWxmcy5oZi5jby9yZXBvcy84MS80MC84MTQwNzRlNGJmNjNjZmZiYWJlOTk4MDk5MzMzNGY4ZDUzZDY2ZWU3MjA3YjdkOWE0ODJjOTE2Mjk2Nzc5YmQ3L2MyZTlmMWVkNGZmMjMxYjlmNzhkZTgxNThkNjNhYzRiMDMxZTU5OWQyNmQ1MjRlOTE3MWNjYjljMTYzMDVmYzM%7EcmVzcG9uc2UtY29udGVudC1kaXNwb3NpdGlvbj0qIn1dfQ__&Signature=til9PwkQY0NHzsEHI6XEW-FbJwP7jTqtHFHAlp-QbY8JWbp8697dXhosF0Mp9v1g6khepu07rBDJ39C6lfX7404uyQF7HmpUGknZUHRCpirZhgOXDDGaMxiJlfUZEzje1EQIcHxrBUdBSMc7OuVd%7EMNyACDv0oRURvxrWvTC3lR9RCsCJIXtp4FSWPZeKSAPYNPtZSm-tJ-yII-Coe1loe5Am9sXnZjLmge3zPEa%7E7s0Hd7f-f48VfIa0fRuP%7Eqk1d5wAREa4UT3Zk-FtE6c9erlUttDw1EQCze2GAYTzR8U78LIRZhnk1fToqB%7E09QYWgvXgunUu3UU7WO3ZzDzUA__&Key-Pair-Id=K3RPWS32NSSJCE\n",
      "Resolving cdn-lfs.hf.co (cdn-lfs.hf.co)... 3.171.139.125, 3.171.139.62, 3.171.139.118, ...\n",
      "Connecting to cdn-lfs.hf.co (cdn-lfs.hf.co)|3.171.139.125|:443... connected.\n",
      "HTTP request sent, awaiting response... 200 OK\n",
      "Length: 702585021 (670M) [binary/octet-stream]\n",
      "Saving to: ‘ip-adapter_xl.pth’\n",
      "\n",
      "ip-adapter_xl.pth   100%[===================>] 670.04M   230MB/s    in 2.9s    \n",
      "\n",
      "2024-11-20 05:33:41 (230 MB/s) - ‘ip-adapter_xl.pth’ saved [702585021/702585021]\n",
      "\n",
      "--2024-11-20 05:33:41--  https://huggingface.co/TheMistoAI/MistoLine/resolve/main/mistoLine_fp16.safetensors?download=true\n",
      "Resolving huggingface.co (huggingface.co)... 3.168.73.38, 3.168.73.106, 3.168.73.129, ...\n",
      "Connecting to huggingface.co (huggingface.co)|3.168.73.38|:443... connected.\n",
      "HTTP request sent, awaiting response... 302 Found\n",
      "Location: https://cdn-lfs-us-1.hf.co/repos/44/da/44dae71fe6bdd893e19341b92087a03e37e4086f226a45c97e8f44489e5a5cfa/1df519349f3f2b6a3c6ff23127dd9b98a78e1f50628cf4037a5a9527c08b767c?response-content-disposition=attachment%3B+filename*%3DUTF-8%27%27mistoLine_fp16.safetensors%3B+filename%3D%22mistoLine_fp16.safetensors%22%3B&Expires=1732340021&Policy=eyJTdGF0ZW1lbnQiOlt7IkNvbmRpdGlvbiI6eyJEYXRlTGVzc1RoYW4iOnsiQVdTOkVwb2NoVGltZSI6MTczMjM0MDAyMX19LCJSZXNvdXJjZSI6Imh0dHBzOi8vY2RuLWxmcy11cy0xLmhmLmNvL3JlcG9zLzQ0L2RhLzQ0ZGFlNzFmZTZiZGQ4OTNlMTkzNDFiOTIwODdhMDNlMzdlNDA4NmYyMjZhNDVjOTdlOGY0NDQ4OWU1YTVjZmEvMWRmNTE5MzQ5ZjNmMmI2YTNjNmZmMjMxMjdkZDliOThhNzhlMWY1MDYyOGNmNDAzN2E1YTk1MjdjMDhiNzY3Yz9yZXNwb25zZS1jb250ZW50LWRpc3Bvc2l0aW9uPSoifV19&Signature=VbuiRLDrMv7ENKmdeBafslL3hdHvjdQKAETxQRH42-llDQjCe37ngshvv1nHDJEfyqyeKGzjvcLaqEPYKtK7st7jHAyTO0Xc3x44tHcAOm3DtToE-fQKVcLUipX-i8c1FgQcUUicN2PgJ9AR3RVDJcUQV55hQ2onvjuQeU0cZJ%7Emo0%7EGIYQT8WxDVdKTSUuDoVBpTq9ptg4AypR%7EiMfDSp05w99j7eCnaHGrxivORYwqOW-t9PlhqejtvPnQjppKIKQWeJOe5XD6zvr7zqIi2L26KDG39pPugWbgc82l2GSMFsUEhoFagnGqaYiVGLnV4KlVuOMomU5t16tEc7OJmQ__&Key-Pair-Id=K24J24Z295AEI9 [following]\n",
      "--2024-11-20 05:33:41--  https://cdn-lfs-us-1.hf.co/repos/44/da/44dae71fe6bdd893e19341b92087a03e37e4086f226a45c97e8f44489e5a5cfa/1df519349f3f2b6a3c6ff23127dd9b98a78e1f50628cf4037a5a9527c08b767c?response-content-disposition=attachment%3B+filename*%3DUTF-8%27%27mistoLine_fp16.safetensors%3B+filename%3D%22mistoLine_fp16.safetensors%22%3B&Expires=1732340021&Policy=eyJTdGF0ZW1lbnQiOlt7IkNvbmRpdGlvbiI6eyJEYXRlTGVzc1RoYW4iOnsiQVdTOkVwb2NoVGltZSI6MTczMjM0MDAyMX19LCJSZXNvdXJjZSI6Imh0dHBzOi8vY2RuLWxmcy11cy0xLmhmLmNvL3JlcG9zLzQ0L2RhLzQ0ZGFlNzFmZTZiZGQ4OTNlMTkzNDFiOTIwODdhMDNlMzdlNDA4NmYyMjZhNDVjOTdlOGY0NDQ4OWU1YTVjZmEvMWRmNTE5MzQ5ZjNmMmI2YTNjNmZmMjMxMjdkZDliOThhNzhlMWY1MDYyOGNmNDAzN2E1YTk1MjdjMDhiNzY3Yz9yZXNwb25zZS1jb250ZW50LWRpc3Bvc2l0aW9uPSoifV19&Signature=VbuiRLDrMv7ENKmdeBafslL3hdHvjdQKAETxQRH42-llDQjCe37ngshvv1nHDJEfyqyeKGzjvcLaqEPYKtK7st7jHAyTO0Xc3x44tHcAOm3DtToE-fQKVcLUipX-i8c1FgQcUUicN2PgJ9AR3RVDJcUQV55hQ2onvjuQeU0cZJ%7Emo0%7EGIYQT8WxDVdKTSUuDoVBpTq9ptg4AypR%7EiMfDSp05w99j7eCnaHGrxivORYwqOW-t9PlhqejtvPnQjppKIKQWeJOe5XD6zvr7zqIi2L26KDG39pPugWbgc82l2GSMFsUEhoFagnGqaYiVGLnV4KlVuOMomU5t16tEc7OJmQ__&Key-Pair-Id=K24J24Z295AEI9\n",
      "Resolving cdn-lfs-us-1.hf.co (cdn-lfs-us-1.hf.co)... 13.249.91.57, 13.249.91.64, 13.249.91.20, ...\n",
      "Connecting to cdn-lfs-us-1.hf.co (cdn-lfs-us-1.hf.co)|13.249.91.57|:443... connected.\n",
      "HTTP request sent, awaiting response... 200 OK\n",
      "Length: 2502139104 (2.3G) [binary/octet-stream]\n",
      "Saving to: ‘mistoLine_fp16.safetensors’\n",
      "\n",
      "mistoLine_fp16.safe 100%[===================>]   2.33G  42.1MB/s    in 60s     \n",
      "\n",
      "2024-11-20 05:34:41 (40.1 MB/s) - ‘mistoLine_fp16.safetensors’ saved [2502139104/2502139104]\n",
      "\n",
      "--2024-11-20 05:34:41--  https://huggingface.co/lllyasviel/sd_control_collection/resolve/main/diffusers_xl_depth_full.safetensors?download=true\n",
      "Resolving huggingface.co (huggingface.co)... 3.168.73.111, 3.168.73.129, 3.168.73.38, ...\n",
      "Connecting to huggingface.co (huggingface.co)|3.168.73.111|:443... connected.\n",
      "HTTP request sent, awaiting response... 302 Found\n",
      "Location: https://cdn-lfs.hf.co/repos/81/40/814074e4bf63cffbabe9980993334f8d53d66ee7207b7d9a482c916296779bd7/8ba4dfaa1958f1f68e5dc7f9839f9ef4e153aef0d330291e5cf966c925f97477?response-content-disposition=attachment%3B+filename*%3DUTF-8%27%27diffusers_xl_depth_full.safetensors%3B+filename%3D%22diffusers_xl_depth_full.safetensors%22%3B&Expires=1732340081&Policy=eyJTdGF0ZW1lbnQiOlt7IkNvbmRpdGlvbiI6eyJEYXRlTGVzc1RoYW4iOnsiQVdTOkVwb2NoVGltZSI6MTczMjM0MDA4MX19LCJSZXNvdXJjZSI6Imh0dHBzOi8vY2RuLWxmcy5oZi5jby9yZXBvcy84MS80MC84MTQwNzRlNGJmNjNjZmZiYWJlOTk4MDk5MzMzNGY4ZDUzZDY2ZWU3MjA3YjdkOWE0ODJjOTE2Mjk2Nzc5YmQ3LzhiYTRkZmFhMTk1OGYxZjY4ZTVkYzdmOTgzOWY5ZWY0ZTE1M2FlZjBkMzMwMjkxZTVjZjk2NmM5MjVmOTc0Nzc%7EcmVzcG9uc2UtY29udGVudC1kaXNwb3NpdGlvbj0qIn1dfQ__&Signature=TbMrhZqiZb5jc3ZeeLISlg8TF7wT3oXCM-O4xyFKAZcJFNn%7Ehz3DA7iSCxwz-TXWTtPAcYNc2USjEQzIEzB4Kot6Q1Bv1EOysGWIZvu4zIeVGzAnEw6YOrqeJ3N9XMcbHznQV-dSOZAky9zPjLLUpIkdOQO2VyInnkQZbPf2z399h23jJcKHeV-RixFU1A5yCGN7yWmWDwGFeWKFxNZ0zfJP-%7EfPAko3DoEvFae%7EovH2XcxWJpXwzMOFkdNpPm382AhxVpH5UZH04OGdOhWDLvzGigcvDieD4iQdDAuAren2j3iymZC4kAxHf413RqHg5Ub557-sTt7QBH610Po-WQ__&Key-Pair-Id=K3RPWS32NSSJCE [following]\n",
      "--2024-11-20 05:34:41--  https://cdn-lfs.hf.co/repos/81/40/814074e4bf63cffbabe9980993334f8d53d66ee7207b7d9a482c916296779bd7/8ba4dfaa1958f1f68e5dc7f9839f9ef4e153aef0d330291e5cf966c925f97477?response-content-disposition=attachment%3B+filename*%3DUTF-8%27%27diffusers_xl_depth_full.safetensors%3B+filename%3D%22diffusers_xl_depth_full.safetensors%22%3B&Expires=1732340081&Policy=eyJTdGF0ZW1lbnQiOlt7IkNvbmRpdGlvbiI6eyJEYXRlTGVzc1RoYW4iOnsiQVdTOkVwb2NoVGltZSI6MTczMjM0MDA4MX19LCJSZXNvdXJjZSI6Imh0dHBzOi8vY2RuLWxmcy5oZi5jby9yZXBvcy84MS80MC84MTQwNzRlNGJmNjNjZmZiYWJlOTk4MDk5MzMzNGY4ZDUzZDY2ZWU3MjA3YjdkOWE0ODJjOTE2Mjk2Nzc5YmQ3LzhiYTRkZmFhMTk1OGYxZjY4ZTVkYzdmOTgzOWY5ZWY0ZTE1M2FlZjBkMzMwMjkxZTVjZjk2NmM5MjVmOTc0Nzc%7EcmVzcG9uc2UtY29udGVudC1kaXNwb3NpdGlvbj0qIn1dfQ__&Signature=TbMrhZqiZb5jc3ZeeLISlg8TF7wT3oXCM-O4xyFKAZcJFNn%7Ehz3DA7iSCxwz-TXWTtPAcYNc2USjEQzIEzB4Kot6Q1Bv1EOysGWIZvu4zIeVGzAnEw6YOrqeJ3N9XMcbHznQV-dSOZAky9zPjLLUpIkdOQO2VyInnkQZbPf2z399h23jJcKHeV-RixFU1A5yCGN7yWmWDwGFeWKFxNZ0zfJP-%7EfPAko3DoEvFae%7EovH2XcxWJpXwzMOFkdNpPm382AhxVpH5UZH04OGdOhWDLvzGigcvDieD4iQdDAuAren2j3iymZC4kAxHf413RqHg5Ub557-sTt7QBH610Po-WQ__&Key-Pair-Id=K3RPWS32NSSJCE\n",
      "Resolving cdn-lfs.hf.co (cdn-lfs.hf.co)... 3.171.139.118, 3.171.139.14, 3.171.139.62, ...\n",
      "Connecting to cdn-lfs.hf.co (cdn-lfs.hf.co)|3.171.139.118|:443... connected.\n",
      "HTTP request sent, awaiting response... 200 OK\n",
      "Length: 2502139104 (2.3G) [binary/octet-stream]\n",
      "Saving to: ‘diffusers_xl_depth_full.safetensors’\n",
      "\n",
      "diffusers_xl_depth_ 100%[===================>]   2.33G   179MB/s    in 12s     \n",
      "\n",
      "2024-11-20 05:34:53 (202 MB/s) - ‘diffusers_xl_depth_full.safetensors’ saved [2502139104/2502139104]\n",
      "\n",
      "--2024-11-20 05:34:53--  https://huggingface.co/2vXpSwA7/iroiro-lora/resolve/main/test_controlnet2/CN-anytest_v4-marged.safetensors?download=true\n",
      "Resolving huggingface.co (huggingface.co)... 3.168.73.129, 3.168.73.106, 3.168.73.111, ...\n",
      "Connecting to huggingface.co (huggingface.co)|3.168.73.129|:443... connected.\n",
      "HTTP request sent, awaiting response... 302 Found\n",
      "Location: https://cdn-lfs.hf.co/repos/37/27/3727e32d95a87e0694889e321ad0bfb1a2b80ba5c1c87be27d7fa907a10ad817/807aa29189c10660dff77a5bbfcf5cf39d60f7780199db36db36a9096e11ace7?response-content-disposition=attachment%3B+filename*%3DUTF-8%27%27CN-anytest_v4-marged.safetensors%3B+filename%3D%22CN-anytest_v4-marged.safetensors%22%3B&Expires=1732340093&Policy=eyJTdGF0ZW1lbnQiOlt7IkNvbmRpdGlvbiI6eyJEYXRlTGVzc1RoYW4iOnsiQVdTOkVwb2NoVGltZSI6MTczMjM0MDA5M319LCJSZXNvdXJjZSI6Imh0dHBzOi8vY2RuLWxmcy5oZi5jby9yZXBvcy8zNy8yNy8zNzI3ZTMyZDk1YTg3ZTA2OTQ4ODllMzIxYWQwYmZiMWEyYjgwYmE1YzFjODdiZTI3ZDdmYTkwN2ExMGFkODE3LzgwN2FhMjkxODljMTA2NjBkZmY3N2E1YmJmY2Y1Y2YzOWQ2MGY3NzgwMTk5ZGIzNmRiMzZhOTA5NmUxMWFjZTc%7EcmVzcG9uc2UtY29udGVudC1kaXNwb3NpdGlvbj0qIn1dfQ__&Signature=r8ADJ17szPySjwM-QxVl5ZuyAsJYrnLy2apbtzR%7EhA26aFDAeXZGPmvpd%7E5GAjj%7EtaMTxIf7ADu7f1HGvEfV%7EeuihD6WkpdLRUrKbOpQGCDNa2pHU1HXiKgEEr3g8lfrRgdG4BVC4pAnvleyk3KA4zpDOzVF7ueETLFvr6h3p4yjkG2177WIKs9xHBomyLfiuBx0S8NMnr83maqVm8j6Q48x7ly4O5gEoLNE%7EQGmOyYocqHn81NKGZIfogZMle31mthz6ZEVqWdr9RGgOdZjLjYrBvCIUfuPhXTrgsKlky9632V9EOB3Jq7Br3cEtCSRlV2yuKfGltbJGqDtEJTCbg__&Key-Pair-Id=K3RPWS32NSSJCE [following]\n",
      "--2024-11-20 05:34:53--  https://cdn-lfs.hf.co/repos/37/27/3727e32d95a87e0694889e321ad0bfb1a2b80ba5c1c87be27d7fa907a10ad817/807aa29189c10660dff77a5bbfcf5cf39d60f7780199db36db36a9096e11ace7?response-content-disposition=attachment%3B+filename*%3DUTF-8%27%27CN-anytest_v4-marged.safetensors%3B+filename%3D%22CN-anytest_v4-marged.safetensors%22%3B&Expires=1732340093&Policy=eyJTdGF0ZW1lbnQiOlt7IkNvbmRpdGlvbiI6eyJEYXRlTGVzc1RoYW4iOnsiQVdTOkVwb2NoVGltZSI6MTczMjM0MDA5M319LCJSZXNvdXJjZSI6Imh0dHBzOi8vY2RuLWxmcy5oZi5jby9yZXBvcy8zNy8yNy8zNzI3ZTMyZDk1YTg3ZTA2OTQ4ODllMzIxYWQwYmZiMWEyYjgwYmE1YzFjODdiZTI3ZDdmYTkwN2ExMGFkODE3LzgwN2FhMjkxODljMTA2NjBkZmY3N2E1YmJmY2Y1Y2YzOWQ2MGY3NzgwMTk5ZGIzNmRiMzZhOTA5NmUxMWFjZTc%7EcmVzcG9uc2UtY29udGVudC1kaXNwb3NpdGlvbj0qIn1dfQ__&Signature=r8ADJ17szPySjwM-QxVl5ZuyAsJYrnLy2apbtzR%7EhA26aFDAeXZGPmvpd%7E5GAjj%7EtaMTxIf7ADu7f1HGvEfV%7EeuihD6WkpdLRUrKbOpQGCDNa2pHU1HXiKgEEr3g8lfrRgdG4BVC4pAnvleyk3KA4zpDOzVF7ueETLFvr6h3p4yjkG2177WIKs9xHBomyLfiuBx0S8NMnr83maqVm8j6Q48x7ly4O5gEoLNE%7EQGmOyYocqHn81NKGZIfogZMle31mthz6ZEVqWdr9RGgOdZjLjYrBvCIUfuPhXTrgsKlky9632V9EOB3Jq7Br3cEtCSRlV2yuKfGltbJGqDtEJTCbg__&Key-Pair-Id=K3RPWS32NSSJCE\n",
      "Resolving cdn-lfs.hf.co (cdn-lfs.hf.co)... 3.171.139.62, 3.171.139.118, 3.171.139.125, ...\n",
      "Connecting to cdn-lfs.hf.co (cdn-lfs.hf.co)|3.171.139.62|:443... connected.\n",
      "HTTP request sent, awaiting response... 200 OK\n",
      "Length: 2502139104 (2.3G) [binary/octet-stream]\n",
      "Saving to: ‘CN-anytest_v4-marged.safetensors’\n",
      "\n",
      "CN-anytest_v4-marge 100%[===================>]   2.33G   199MB/s    in 11s     \n",
      "\n",
      "2024-11-20 05:35:04 (212 MB/s) - ‘CN-anytest_v4-marged.safetensors’ saved [2502139104/2502139104]\n",
      "\n"
     ]
    }
   ],
   "source": [
    "# コントロールネットip-adapter\n",
    "!cd /tmp/stable-diffusion-webui-forge/models/ControlNet && \\\n",
    "wget -nc https://huggingface.co/lllyasviel/sd_control_collection/resolve/main/ip-adapter_xl.pth?download=true -O ip-adapter_xl.pth\n",
    "\n",
    "# コントロールネットmistoline\n",
    "!cd /tmp/stable-diffusion-webui-forge/models/ControlNet && \\\n",
    "wget -nc https://huggingface.co/TheMistoAI/MistoLine/resolve/main/mistoLine_fp16.safetensors?download=true -O mistoLine_fp16.safetensors\n",
    "\n",
    "# コントロールネットDEPTH\n",
    "!cd /tmp/stable-diffusion-webui-forge/models/ControlNet && \\\n",
    "wget -nc https://huggingface.co/lllyasviel/sd_control_collection/resolve/main/diffusers_xl_depth_full.safetensors?download=true -O diffusers_xl_depth_full.safetensors\n",
    "\n",
    "# コントロールネットDEPTH\n",
    "!cd /tmp/stable-diffusion-webui-forge/models/ControlNet && \\\n",
    "wget -nc https://huggingface.co/2vXpSwA7/iroiro-lora/resolve/main/test_controlnet2/CN-anytest_v4-marged.safetensors?download=true -O CN-anytest_v4-marged.safetensors\n"
   ]
  },
  {
   "cell_type": "code",
   "execution_count": 4,
   "id": "b156c9c8-92ec-44e9-9380-a67dbca79038",
   "metadata": {
    "execution": {
     "iopub.execute_input": "2024-08-24T20:08:13.521556Z",
     "iopub.status.busy": "2024-08-24T20:08:13.521014Z",
     "iopub.status.idle": "2024-08-24T20:08:13.636134Z",
     "shell.execute_reply": "2024-08-24T20:08:13.635306Z",
     "shell.execute_reply.started": "2024-08-24T20:08:13.521527Z"
    }
   },
   "outputs": [
    {
     "name": "stdout",
     "output_type": "stream",
     "text": [
      "/tmp/stable-diffusion-webui-forge/extensions\n"
     ]
    }
   ],
   "source": [
    "%cd /tmp/stable-diffusion-webui-forge/extensions\n",
    "!rm -rf sd-webui-deforum\n"
   ]
  },
  {
   "cell_type": "code",
   "execution_count": 1,
   "id": "2ebed44d-3d10-4321-954e-dd8d29e34b0a",
   "metadata": {
    "execution": {
     "iopub.execute_input": "2024-08-25T06:50:45.393010Z",
     "iopub.status.busy": "2024-08-25T06:50:45.392356Z",
     "iopub.status.idle": "2024-08-25T06:50:57.400193Z",
     "shell.execute_reply": "2024-08-25T06:50:57.399440Z",
     "shell.execute_reply.started": "2024-08-25T06:50:45.392985Z"
    }
   },
   "outputs": [
    {
     "name": "stdout",
     "output_type": "stream",
     "text": [
      "/tmp/stable-diffusion-webui-forge/extensions\n",
      "Cloning into 'sd-forge-deforum'...\n"
     ]
    },
    {
     "name": "stderr",
     "output_type": "stream",
     "text": [
      "/usr/local/lib/python3.10/dist-packages/IPython/core/magics/osm.py:417: UserWarning: This is now an optional IPython functionality, setting dhist requires you to install the `pickleshare` library.\n",
      "  self.shell.db['dhist'] = compress_dhist(dhist)[-100:]\n"
     ]
    },
    {
     "name": "stdout",
     "output_type": "stream",
     "text": [
      "remote: Enumerating objects: 14960, done.\u001b[K\n",
      "remote: Counting objects: 100% (42/42), done.\u001b[K\n",
      "remote: Compressing objects: 100% (33/33), done.\u001b[K\n",
      "remote: Total 14960 (delta 23), reused 24 (delta 9), pack-reused 14918 (from 1)\u001b[K\n",
      "Receiving objects: 100% (14960/14960), 129.40 MiB | 34.35 MiB/s, done.\n",
      "Resolving deltas: 100% (9285/9285), done.\n",
      "/tmp/stable-diffusion-webui-forge/extensions/sd-forge-deforum\n",
      "Collecting numexpr (from -r requirements.txt (line 1))\n",
      "  Downloading numexpr-2.10.1-cp310-cp310-manylinux_2_27_x86_64.manylinux_2_28_x86_64.whl.metadata (1.2 kB)\n",
      "Requirement already satisfied: matplotlib in /usr/local/lib/python3.10/dist-packages (from -r requirements.txt (line 2)) (3.8.4)\n",
      "Requirement already satisfied: pandas in /usr/local/lib/python3.10/dist-packages (from -r requirements.txt (line 3)) (2.2.2)\n",
      "Collecting av (from -r requirements.txt (line 4))\n",
      "  Downloading av-12.3.0-cp310-cp310-manylinux_2_17_x86_64.manylinux2014_x86_64.whl.metadata (4.6 kB)\n",
      "Collecting pims (from -r requirements.txt (line 5))\n",
      "  Downloading pims-0.7.tar.gz (87 kB)\n",
      "\u001b[2K     \u001b[90m━━━━━━━━━━━━━━━━━━━━━━━━━━━━━━━━━━━━━━━━\u001b[0m \u001b[32m87.8/87.8 kB\u001b[0m \u001b[31m2.3 MB/s\u001b[0m eta \u001b[36m0:00:00\u001b[0ma \u001b[36m0:00:01\u001b[0m\n",
      "\u001b[?25h  Preparing metadata (setup.py) ... \u001b[?25ldone\n",
      "\u001b[?25hCollecting imageio_ffmpeg (from -r requirements.txt (line 6))\n",
      "  Downloading imageio_ffmpeg-0.5.1-py3-none-manylinux2010_x86_64.whl.metadata (1.6 kB)\n",
      "Requirement already satisfied: rich in /usr/local/lib/python3.10/dist-packages (from -r requirements.txt (line 7)) (13.7.1)\n",
      "Requirement already satisfied: gdown in /usr/local/lib/python3.10/dist-packages (from -r requirements.txt (line 8)) (4.7.1)\n",
      "Requirement already satisfied: basicsr in /usr/local/lib/python3.10/dist-packages (from -r requirements.txt (line 9)) (1.4.2)\n",
      "Requirement already satisfied: numpy>=1.23.0 in /usr/local/lib/python3.10/dist-packages (from numexpr->-r requirements.txt (line 1)) (1.26.2)\n",
      "Requirement already satisfied: contourpy>=1.0.1 in /usr/local/lib/python3.10/dist-packages (from matplotlib->-r requirements.txt (line 2)) (1.2.1)\n",
      "Requirement already satisfied: cycler>=0.10 in /usr/local/lib/python3.10/dist-packages (from matplotlib->-r requirements.txt (line 2)) (0.12.1)\n",
      "Requirement already satisfied: fonttools>=4.22.0 in /usr/local/lib/python3.10/dist-packages (from matplotlib->-r requirements.txt (line 2)) (4.51.0)\n",
      "Requirement already satisfied: kiwisolver>=1.3.1 in /usr/local/lib/python3.10/dist-packages (from matplotlib->-r requirements.txt (line 2)) (1.4.5)\n",
      "Requirement already satisfied: packaging>=20.0 in /usr/local/lib/python3.10/dist-packages (from matplotlib->-r requirements.txt (line 2)) (24.0)\n",
      "Requirement already satisfied: pillow>=8 in /usr/local/lib/python3.10/dist-packages (from matplotlib->-r requirements.txt (line 2)) (9.5.0)\n",
      "Requirement already satisfied: pyparsing>=2.3.1 in /usr/lib/python3/dist-packages (from matplotlib->-r requirements.txt (line 2)) (2.4.7)\n",
      "Requirement already satisfied: python-dateutil>=2.7 in /usr/local/lib/python3.10/dist-packages (from matplotlib->-r requirements.txt (line 2)) (2.9.0.post0)\n",
      "Requirement already satisfied: pytz>=2020.1 in /usr/lib/python3/dist-packages (from pandas->-r requirements.txt (line 3)) (2022.1)\n",
      "Requirement already satisfied: tzdata>=2022.7 in /usr/local/lib/python3.10/dist-packages (from pandas->-r requirements.txt (line 3)) (2024.1)\n",
      "Requirement already satisfied: imageio in /usr/local/lib/python3.10/dist-packages (from pims->-r requirements.txt (line 5)) (2.34.1)\n",
      "Collecting slicerator>=0.9.8 (from pims->-r requirements.txt (line 5))\n",
      "  Downloading slicerator-1.1.0-py3-none-any.whl.metadata (1.9 kB)\n",
      "Requirement already satisfied: tifffile in /usr/local/lib/python3.10/dist-packages (from pims->-r requirements.txt (line 5)) (2024.5.10)\n",
      "Requirement already satisfied: setuptools in /usr/local/lib/python3.10/dist-packages (from imageio_ffmpeg->-r requirements.txt (line 6)) (69.5.1)\n",
      "Requirement already satisfied: markdown-it-py>=2.2.0 in /usr/local/lib/python3.10/dist-packages (from rich->-r requirements.txt (line 7)) (3.0.0)\n",
      "Requirement already satisfied: pygments<3.0.0,>=2.13.0 in /usr/local/lib/python3.10/dist-packages (from rich->-r requirements.txt (line 7)) (2.18.0)\n",
      "Requirement already satisfied: filelock in /usr/local/lib/python3.10/dist-packages (from gdown->-r requirements.txt (line 8)) (3.14.0)\n",
      "Requirement already satisfied: requests[socks] in /usr/local/lib/python3.10/dist-packages (from gdown->-r requirements.txt (line 8)) (2.31.0)\n",
      "Requirement already satisfied: six in /usr/lib/python3/dist-packages (from gdown->-r requirements.txt (line 8)) (1.16.0)\n",
      "Requirement already satisfied: tqdm in /usr/local/lib/python3.10/dist-packages (from gdown->-r requirements.txt (line 8)) (4.66.1)\n",
      "Requirement already satisfied: beautifulsoup4 in /usr/local/lib/python3.10/dist-packages (from gdown->-r requirements.txt (line 8)) (4.12.3)\n",
      "Requirement already satisfied: addict in /usr/local/lib/python3.10/dist-packages (from basicsr->-r requirements.txt (line 9)) (2.4.0)\n",
      "Requirement already satisfied: future in /usr/local/lib/python3.10/dist-packages (from basicsr->-r requirements.txt (line 9)) (0.18.3)\n",
      "Requirement already satisfied: lmdb in /usr/local/lib/python3.10/dist-packages (from basicsr->-r requirements.txt (line 9)) (1.5.1)\n",
      "Requirement already satisfied: opencv-python in /usr/local/lib/python3.10/dist-packages (from basicsr->-r requirements.txt (line 9)) (4.8.0.76)\n",
      "Requirement already satisfied: pyyaml in /usr/lib/python3/dist-packages (from basicsr->-r requirements.txt (line 9)) (5.4.1)\n",
      "Requirement already satisfied: scikit-image in /usr/local/lib/python3.10/dist-packages (from basicsr->-r requirements.txt (line 9)) (0.21.0)\n",
      "Requirement already satisfied: scipy in /usr/local/lib/python3.10/dist-packages (from basicsr->-r requirements.txt (line 9)) (1.13.0)\n",
      "Requirement already satisfied: tb-nightly in /usr/local/lib/python3.10/dist-packages (from basicsr->-r requirements.txt (line 9)) (2.18.0a20240824)\n",
      "Requirement already satisfied: torch>=1.7 in /usr/local/lib/python3.10/dist-packages (from basicsr->-r requirements.txt (line 9)) (2.4.0+cu124)\n",
      "Requirement already satisfied: torchvision in /usr/local/lib/python3.10/dist-packages (from basicsr->-r requirements.txt (line 9)) (0.19.0+cu124)\n",
      "Requirement already satisfied: yapf in /usr/local/lib/python3.10/dist-packages (from basicsr->-r requirements.txt (line 9)) (0.40.2)\n",
      "Requirement already satisfied: mdurl~=0.1 in /usr/local/lib/python3.10/dist-packages (from markdown-it-py>=2.2.0->rich->-r requirements.txt (line 7)) (0.1.2)\n",
      "Requirement already satisfied: typing-extensions>=4.8.0 in /usr/local/lib/python3.10/dist-packages (from torch>=1.7->basicsr->-r requirements.txt (line 9)) (4.11.0)\n",
      "Requirement already satisfied: sympy in /usr/local/lib/python3.10/dist-packages (from torch>=1.7->basicsr->-r requirements.txt (line 9)) (1.12)\n",
      "Requirement already satisfied: networkx in /usr/local/lib/python3.10/dist-packages (from torch>=1.7->basicsr->-r requirements.txt (line 9)) (3.3)\n",
      "Requirement already satisfied: jinja2 in /usr/local/lib/python3.10/dist-packages (from torch>=1.7->basicsr->-r requirements.txt (line 9)) (3.1.4)\n",
      "Requirement already satisfied: fsspec in /usr/local/lib/python3.10/dist-packages (from torch>=1.7->basicsr->-r requirements.txt (line 9)) (2024.3.1)\n",
      "Requirement already satisfied: nvidia-cuda-nvrtc-cu12==12.4.99 in /usr/local/lib/python3.10/dist-packages (from torch>=1.7->basicsr->-r requirements.txt (line 9)) (12.4.99)\n",
      "Requirement already satisfied: nvidia-cuda-runtime-cu12==12.4.99 in /usr/local/lib/python3.10/dist-packages (from torch>=1.7->basicsr->-r requirements.txt (line 9)) (12.4.99)\n",
      "Requirement already satisfied: nvidia-cuda-cupti-cu12==12.4.99 in /usr/local/lib/python3.10/dist-packages (from torch>=1.7->basicsr->-r requirements.txt (line 9)) (12.4.99)\n",
      "Requirement already satisfied: nvidia-cudnn-cu12==9.1.0.70 in /usr/local/lib/python3.10/dist-packages (from torch>=1.7->basicsr->-r requirements.txt (line 9)) (9.1.0.70)\n",
      "Requirement already satisfied: nvidia-cublas-cu12==12.4.2.65 in /usr/local/lib/python3.10/dist-packages (from torch>=1.7->basicsr->-r requirements.txt (line 9)) (12.4.2.65)\n",
      "Requirement already satisfied: nvidia-cufft-cu12==11.2.0.44 in /usr/local/lib/python3.10/dist-packages (from torch>=1.7->basicsr->-r requirements.txt (line 9)) (11.2.0.44)\n",
      "Requirement already satisfied: nvidia-curand-cu12==10.3.5.119 in /usr/local/lib/python3.10/dist-packages (from torch>=1.7->basicsr->-r requirements.txt (line 9)) (10.3.5.119)\n",
      "Requirement already satisfied: nvidia-cusolver-cu12==11.6.0.99 in /usr/local/lib/python3.10/dist-packages (from torch>=1.7->basicsr->-r requirements.txt (line 9)) (11.6.0.99)\n",
      "Requirement already satisfied: nvidia-cusparse-cu12==12.3.0.142 in /usr/local/lib/python3.10/dist-packages (from torch>=1.7->basicsr->-r requirements.txt (line 9)) (12.3.0.142)\n",
      "Requirement already satisfied: nvidia-nccl-cu12==2.20.5 in /usr/local/lib/python3.10/dist-packages (from torch>=1.7->basicsr->-r requirements.txt (line 9)) (2.20.5)\n",
      "Requirement already satisfied: nvidia-nvtx-cu12==12.4.99 in /usr/local/lib/python3.10/dist-packages (from torch>=1.7->basicsr->-r requirements.txt (line 9)) (12.4.99)\n",
      "Requirement already satisfied: nvidia-nvjitlink-cu12==12.4.99 in /usr/local/lib/python3.10/dist-packages (from torch>=1.7->basicsr->-r requirements.txt (line 9)) (12.4.99)\n",
      "Requirement already satisfied: triton==3.0.0 in /usr/local/lib/python3.10/dist-packages (from torch>=1.7->basicsr->-r requirements.txt (line 9)) (3.0.0)\n",
      "Requirement already satisfied: soupsieve>1.2 in /usr/local/lib/python3.10/dist-packages (from beautifulsoup4->gdown->-r requirements.txt (line 8)) (2.5)\n",
      "Requirement already satisfied: charset-normalizer<4,>=2 in /usr/local/lib/python3.10/dist-packages (from requests[socks]->gdown->-r requirements.txt (line 8)) (3.3.2)\n",
      "Requirement already satisfied: idna<4,>=2.5 in /usr/lib/python3/dist-packages (from requests[socks]->gdown->-r requirements.txt (line 8)) (3.3)\n",
      "Requirement already satisfied: urllib3<3,>=1.21.1 in /usr/local/lib/python3.10/dist-packages (from requests[socks]->gdown->-r requirements.txt (line 8)) (2.0.7)\n",
      "Requirement already satisfied: certifi>=2017.4.17 in /usr/lib/python3/dist-packages (from requests[socks]->gdown->-r requirements.txt (line 8)) (2020.6.20)\n",
      "Requirement already satisfied: PySocks!=1.5.7,>=1.5.6 in /usr/local/lib/python3.10/dist-packages (from requests[socks]->gdown->-r requirements.txt (line 8)) (1.7.1)\n",
      "Requirement already satisfied: PyWavelets>=1.1.1 in /usr/local/lib/python3.10/dist-packages (from scikit-image->basicsr->-r requirements.txt (line 9)) (1.7.0)\n",
      "Requirement already satisfied: lazy_loader>=0.2 in /usr/local/lib/python3.10/dist-packages (from scikit-image->basicsr->-r requirements.txt (line 9)) (0.4)\n",
      "Requirement already satisfied: absl-py>=0.4 in /usr/local/lib/python3.10/dist-packages (from tb-nightly->basicsr->-r requirements.txt (line 9)) (2.1.0)\n",
      "Requirement already satisfied: grpcio>=1.48.2 in /usr/local/lib/python3.10/dist-packages (from tb-nightly->basicsr->-r requirements.txt (line 9)) (1.63.0)\n",
      "Requirement already satisfied: markdown>=2.6.8 in /usr/local/lib/python3.10/dist-packages (from tb-nightly->basicsr->-r requirements.txt (line 9)) (3.6)\n",
      "Requirement already satisfied: protobuf!=4.24.0,>=3.19.6 in /usr/local/lib/python3.10/dist-packages (from tb-nightly->basicsr->-r requirements.txt (line 9)) (4.25.4)\n",
      "Requirement already satisfied: tensorboard-data-server<0.8.0,>=0.7.0 in /usr/local/lib/python3.10/dist-packages (from tb-nightly->basicsr->-r requirements.txt (line 9)) (0.7.2)\n",
      "Requirement already satisfied: werkzeug>=1.0.1 in /usr/local/lib/python3.10/dist-packages (from tb-nightly->basicsr->-r requirements.txt (line 9)) (3.0.3)\n",
      "Requirement already satisfied: importlib-metadata>=6.6.0 in /usr/local/lib/python3.10/dist-packages (from yapf->basicsr->-r requirements.txt (line 9)) (8.4.0)\n",
      "Requirement already satisfied: platformdirs>=3.5.1 in /usr/local/lib/python3.10/dist-packages (from yapf->basicsr->-r requirements.txt (line 9)) (4.2.1)\n",
      "Requirement already satisfied: tomli>=2.0.1 in /usr/local/lib/python3.10/dist-packages (from yapf->basicsr->-r requirements.txt (line 9)) (2.0.1)\n",
      "Requirement already satisfied: zipp>=0.5 in /usr/lib/python3/dist-packages (from importlib-metadata>=6.6.0->yapf->basicsr->-r requirements.txt (line 9)) (1.0.0)\n",
      "Requirement already satisfied: MarkupSafe>=2.1.1 in /usr/local/lib/python3.10/dist-packages (from werkzeug>=1.0.1->tb-nightly->basicsr->-r requirements.txt (line 9)) (2.1.5)\n",
      "Requirement already satisfied: mpmath>=0.19 in /usr/local/lib/python3.10/dist-packages (from sympy->torch>=1.7->basicsr->-r requirements.txt (line 9)) (1.3.0)\n",
      "Downloading numexpr-2.10.1-cp310-cp310-manylinux_2_27_x86_64.manylinux_2_28_x86_64.whl (405 kB)\n",
      "\u001b[2K   \u001b[90m━━━━━━━━━━━━━━━━━━━━━━━━━━━━━━━━━━━━━━━━\u001b[0m \u001b[32m405.0/405.0 kB\u001b[0m \u001b[31m5.6 MB/s\u001b[0m eta \u001b[36m0:00:00\u001b[0m:00:01\u001b[0m00:01\u001b[0m\n",
      "\u001b[?25hDownloading av-12.3.0-cp310-cp310-manylinux_2_17_x86_64.manylinux2014_x86_64.whl (33.5 MB)\n",
      "\u001b[2K   \u001b[90m━━━━━━━━━━━━━━━━━━━━━━━━━━━━━━━━━━━━━━━━\u001b[0m \u001b[32m33.5/33.5 MB\u001b[0m \u001b[31m40.3 MB/s\u001b[0m eta \u001b[36m0:00:00\u001b[0m:00:01\u001b[0m00:01\u001b[0m\n",
      "\u001b[?25hDownloading imageio_ffmpeg-0.5.1-py3-none-manylinux2010_x86_64.whl (26.9 MB)\n",
      "\u001b[2K   \u001b[90m━━━━━━━━━━━━━━━━━━━━━━━━━━━━━━━━━━━━━━━━\u001b[0m \u001b[32m26.9/26.9 MB\u001b[0m \u001b[31m57.3 MB/s\u001b[0m eta \u001b[36m0:00:00\u001b[0m:00:01\u001b[0m00:01\u001b[0m\n",
      "\u001b[?25hDownloading slicerator-1.1.0-py3-none-any.whl (10 kB)\n",
      "Building wheels for collected packages: pims\n",
      "  Building wheel for pims (setup.py) ... \u001b[?25ldone\n",
      "\u001b[?25h  Created wheel for pims: filename=PIMS-0.7-py3-none-any.whl size=84593 sha256=b892199a33ee19539794ff0a6e58516453ee7fabbb5641a852bacdab804bd826\n",
      "  Stored in directory: /root/.cache/pip/wheels/54/cb/f1/939f4adc0c5bcb1a1a78566d67869368d3d8dc8abd84f63c38\n",
      "Successfully built pims\n",
      "Installing collected packages: slicerator, numexpr, imageio_ffmpeg, av, pims\n",
      "Successfully installed av-12.3.0 imageio_ffmpeg-0.5.1 numexpr-2.10.1 pims-0.7 slicerator-1.1.0\n",
      "\u001b[33mWARNING: Running pip as the 'root' user can result in broken permissions and conflicting behaviour with the system package manager. It is recommended to use a virtual environment instead: https://pip.pypa.io/warnings/venv\u001b[0m\u001b[33m\n",
      "\u001b[0m"
     ]
    }
   ],
   "source": [
    "%cd /tmp/stable-diffusion-webui-forge/extensions\n",
    "!git clone https://github.com/Tok/sd-forge-deforum.git\n",
    "%cd sd-forge-deforum\n",
    "!pip install -r requirements.txt\n"
   ]
  },
  {
   "cell_type": "code",
   "execution_count": 4,
   "id": "29cd1585-a3fc-4604-a7f2-09302f8a729a",
   "metadata": {
    "execution": {
     "iopub.execute_input": "2024-07-30T18:21:30.366529Z",
     "iopub.status.busy": "2024-07-30T18:21:30.366220Z",
     "iopub.status.idle": "2024-07-30T18:21:33.571441Z",
     "shell.execute_reply": "2024-07-30T18:21:33.570589Z",
     "shell.execute_reply.started": "2024-07-30T18:21:30.366506Z"
    }
   },
   "outputs": [
    {
     "name": "stdout",
     "output_type": "stream",
     "text": [
      "Requirement already satisfied: basicsr in /usr/local/lib/python3.10/dist-packages (1.4.2)\n",
      "Requirement already satisfied: addict in /usr/local/lib/python3.10/dist-packages (from basicsr) (2.4.0)\n",
      "Requirement already satisfied: future in /usr/local/lib/python3.10/dist-packages (from basicsr) (0.18.3)\n",
      "Requirement already satisfied: lmdb in /usr/local/lib/python3.10/dist-packages (from basicsr) (1.5.1)\n",
      "Requirement already satisfied: numpy>=1.17 in /usr/local/lib/python3.10/dist-packages (from basicsr) (1.26.2)\n",
      "Requirement already satisfied: opencv-python in /usr/local/lib/python3.10/dist-packages (from basicsr) (4.8.0.76)\n",
      "Requirement already satisfied: Pillow in /usr/local/lib/python3.10/dist-packages (from basicsr) (9.5.0)\n",
      "Requirement already satisfied: pyyaml in /usr/lib/python3/dist-packages (from basicsr) (5.4.1)\n",
      "Requirement already satisfied: requests in /usr/local/lib/python3.10/dist-packages (from basicsr) (2.31.0)\n",
      "Requirement already satisfied: scikit-image in /usr/local/lib/python3.10/dist-packages (from basicsr) (0.21.0)\n",
      "Requirement already satisfied: scipy in /usr/local/lib/python3.10/dist-packages (from basicsr) (1.13.0)\n",
      "Requirement already satisfied: tb-nightly in /usr/local/lib/python3.10/dist-packages (from basicsr) (2.18.0a20240730)\n",
      "Requirement already satisfied: torch>=1.7 in /usr/local/lib/python3.10/dist-packages (from basicsr) (2.4.0+cu124)\n",
      "Requirement already satisfied: torchvision in /usr/local/lib/python3.10/dist-packages (from basicsr) (0.19.0+cu124)\n",
      "Requirement already satisfied: tqdm in /usr/local/lib/python3.10/dist-packages (from basicsr) (4.66.1)\n",
      "Requirement already satisfied: yapf in /usr/local/lib/python3.10/dist-packages (from basicsr) (0.40.2)\n",
      "Requirement already satisfied: filelock in /usr/local/lib/python3.10/dist-packages (from torch>=1.7->basicsr) (3.14.0)\n",
      "Requirement already satisfied: typing-extensions>=4.8.0 in /usr/local/lib/python3.10/dist-packages (from torch>=1.7->basicsr) (4.11.0)\n",
      "Requirement already satisfied: sympy in /usr/local/lib/python3.10/dist-packages (from torch>=1.7->basicsr) (1.12)\n",
      "Requirement already satisfied: networkx in /usr/local/lib/python3.10/dist-packages (from torch>=1.7->basicsr) (3.3)\n",
      "Requirement already satisfied: jinja2 in /usr/local/lib/python3.10/dist-packages (from torch>=1.7->basicsr) (3.1.4)\n",
      "Requirement already satisfied: fsspec in /usr/local/lib/python3.10/dist-packages (from torch>=1.7->basicsr) (2024.3.1)\n",
      "Requirement already satisfied: nvidia-cuda-nvrtc-cu12==12.4.99 in /usr/local/lib/python3.10/dist-packages (from torch>=1.7->basicsr) (12.4.99)\n",
      "Requirement already satisfied: nvidia-cuda-runtime-cu12==12.4.99 in /usr/local/lib/python3.10/dist-packages (from torch>=1.7->basicsr) (12.4.99)\n",
      "Requirement already satisfied: nvidia-cuda-cupti-cu12==12.4.99 in /usr/local/lib/python3.10/dist-packages (from torch>=1.7->basicsr) (12.4.99)\n",
      "Requirement already satisfied: nvidia-cudnn-cu12==9.1.0.70 in /usr/local/lib/python3.10/dist-packages (from torch>=1.7->basicsr) (9.1.0.70)\n",
      "Requirement already satisfied: nvidia-cublas-cu12==12.4.2.65 in /usr/local/lib/python3.10/dist-packages (from torch>=1.7->basicsr) (12.4.2.65)\n",
      "Requirement already satisfied: nvidia-cufft-cu12==11.2.0.44 in /usr/local/lib/python3.10/dist-packages (from torch>=1.7->basicsr) (11.2.0.44)\n",
      "Requirement already satisfied: nvidia-curand-cu12==10.3.5.119 in /usr/local/lib/python3.10/dist-packages (from torch>=1.7->basicsr) (10.3.5.119)\n",
      "Requirement already satisfied: nvidia-cusolver-cu12==11.6.0.99 in /usr/local/lib/python3.10/dist-packages (from torch>=1.7->basicsr) (11.6.0.99)\n",
      "Requirement already satisfied: nvidia-cusparse-cu12==12.3.0.142 in /usr/local/lib/python3.10/dist-packages (from torch>=1.7->basicsr) (12.3.0.142)\n",
      "Requirement already satisfied: nvidia-nccl-cu12==2.20.5 in /usr/local/lib/python3.10/dist-packages (from torch>=1.7->basicsr) (2.20.5)\n",
      "Requirement already satisfied: nvidia-nvtx-cu12==12.4.99 in /usr/local/lib/python3.10/dist-packages (from torch>=1.7->basicsr) (12.4.99)\n",
      "Requirement already satisfied: nvidia-nvjitlink-cu12==12.4.99 in /usr/local/lib/python3.10/dist-packages (from torch>=1.7->basicsr) (12.4.99)\n",
      "Requirement already satisfied: triton==3.0.0 in /usr/local/lib/python3.10/dist-packages (from torch>=1.7->basicsr) (3.0.0)\n",
      "Requirement already satisfied: charset-normalizer<4,>=2 in /usr/local/lib/python3.10/dist-packages (from requests->basicsr) (3.3.2)\n",
      "Requirement already satisfied: idna<4,>=2.5 in /usr/lib/python3/dist-packages (from requests->basicsr) (3.3)\n",
      "Requirement already satisfied: urllib3<3,>=1.21.1 in /usr/local/lib/python3.10/dist-packages (from requests->basicsr) (2.0.7)\n",
      "Requirement already satisfied: certifi>=2017.4.17 in /usr/lib/python3/dist-packages (from requests->basicsr) (2020.6.20)\n",
      "Requirement already satisfied: imageio>=2.27 in /usr/local/lib/python3.10/dist-packages (from scikit-image->basicsr) (2.34.1)\n",
      "Requirement already satisfied: tifffile>=2022.8.12 in /usr/local/lib/python3.10/dist-packages (from scikit-image->basicsr) (2024.5.10)\n",
      "Requirement already satisfied: PyWavelets>=1.1.1 in /usr/local/lib/python3.10/dist-packages (from scikit-image->basicsr) (1.6.0)\n",
      "Requirement already satisfied: packaging>=21 in /usr/local/lib/python3.10/dist-packages (from scikit-image->basicsr) (24.0)\n",
      "Requirement already satisfied: lazy_loader>=0.2 in /usr/local/lib/python3.10/dist-packages (from scikit-image->basicsr) (0.4)\n",
      "Requirement already satisfied: absl-py>=0.4 in /usr/local/lib/python3.10/dist-packages (from tb-nightly->basicsr) (2.1.0)\n",
      "Requirement already satisfied: grpcio>=1.48.2 in /usr/local/lib/python3.10/dist-packages (from tb-nightly->basicsr) (1.63.0)\n",
      "Requirement already satisfied: markdown>=2.6.8 in /usr/local/lib/python3.10/dist-packages (from tb-nightly->basicsr) (3.6)\n",
      "Requirement already satisfied: protobuf!=4.24.0,<5.0.0,>=3.19.6 in /usr/local/lib/python3.10/dist-packages (from tb-nightly->basicsr) (3.20.0)\n",
      "Requirement already satisfied: setuptools>=41.0.0 in /usr/local/lib/python3.10/dist-packages (from tb-nightly->basicsr) (69.5.1)\n",
      "Requirement already satisfied: six>1.9 in /usr/lib/python3/dist-packages (from tb-nightly->basicsr) (1.16.0)\n",
      "Requirement already satisfied: tensorboard-data-server<0.8.0,>=0.7.0 in /usr/local/lib/python3.10/dist-packages (from tb-nightly->basicsr) (0.7.2)\n",
      "Requirement already satisfied: werkzeug>=1.0.1 in /usr/local/lib/python3.10/dist-packages (from tb-nightly->basicsr) (3.0.3)\n",
      "Requirement already satisfied: importlib-metadata>=6.6.0 in /usr/local/lib/python3.10/dist-packages (from yapf->basicsr) (8.2.0)\n",
      "Requirement already satisfied: platformdirs>=3.5.1 in /usr/local/lib/python3.10/dist-packages (from yapf->basicsr) (4.2.1)\n",
      "Requirement already satisfied: tomli>=2.0.1 in /usr/local/lib/python3.10/dist-packages (from yapf->basicsr) (2.0.1)\n",
      "Requirement already satisfied: zipp>=0.5 in /usr/lib/python3/dist-packages (from importlib-metadata>=6.6.0->yapf->basicsr) (1.0.0)\n",
      "Requirement already satisfied: MarkupSafe>=2.1.1 in /usr/local/lib/python3.10/dist-packages (from werkzeug>=1.0.1->tb-nightly->basicsr) (2.1.5)\n",
      "Requirement already satisfied: mpmath>=0.19 in /usr/local/lib/python3.10/dist-packages (from sympy->torch>=1.7->basicsr) (1.3.0)\n",
      "\u001b[33mWARNING: Running pip as the 'root' user can result in broken permissions and conflicting behaviour with the system package manager. It is recommended to use a virtual environment instead: https://pip.pypa.io/warnings/venv\u001b[0m\u001b[33m\n",
      "\u001b[0m"
     ]
    }
   ],
   "source": [
    "!pip install basicsr"
   ]
  },
  {
   "cell_type": "code",
   "execution_count": 1,
   "id": "1cff51cc-6b23-421b-9662-c02771833d73",
   "metadata": {
    "execution": {
     "iopub.execute_input": "2024-08-11T21:39:06.166018Z",
     "iopub.status.busy": "2024-08-11T21:39:06.165487Z",
     "iopub.status.idle": "2024-08-11T21:39:09.285705Z",
     "shell.execute_reply": "2024-08-11T21:39:09.285015Z",
     "shell.execute_reply.started": "2024-08-11T21:39:06.165997Z"
    }
   },
   "outputs": [
    {
     "name": "stdout",
     "output_type": "stream",
     "text": [
      "/tmp/stable-diffusion-webui-forge/extensions\n",
      "Cloning into 'sd-forge-deforum'...\n"
     ]
    },
    {
     "name": "stderr",
     "output_type": "stream",
     "text": [
      "/usr/local/lib/python3.10/dist-packages/IPython/core/magics/osm.py:417: UserWarning: This is now an optional IPython functionality, setting dhist requires you to install the `pickleshare` library.\n",
      "  self.shell.db['dhist'] = compress_dhist(dhist)[-100:]\n"
     ]
    },
    {
     "name": "stdout",
     "output_type": "stream",
     "text": [
      "remote: Enumerating objects: 14849, done.\u001b[K\n",
      "remote: Counting objects: 100% (14849/14849), done.\u001b[K\n",
      "remote: Compressing objects: 100% (5609/5609), done.\u001b[K\n",
      "remote: Total 14849 (delta 9306), reused 14499 (delta 9170), pack-reused 0\u001b[K\n",
      "Receiving objects: 100% (14849/14849), 129.19 MiB | 58.82 MiB/s, done.\n",
      "Resolving deltas: 100% (9306/9306), done.\n"
     ]
    }
   ],
   "source": [
    "%cd /tmp/stable-diffusion-webui-forge/extensions\n",
    "!git clone --branch main https://github.com/deforum-art/sd-forge-deforum.git\n"
   ]
  },
  {
   "cell_type": "code",
   "execution_count": 1,
   "id": "9b11b56b-54b1-4db2-b7e8-efa8feecc58b",
   "metadata": {
    "execution": {
     "iopub.execute_input": "2024-07-28T06:02:07.181505Z",
     "iopub.status.busy": "2024-07-28T06:02:07.181193Z",
     "iopub.status.idle": "2024-07-28T06:02:11.659013Z",
     "shell.execute_reply": "2024-07-28T06:02:11.657995Z",
     "shell.execute_reply.started": "2024-07-28T06:02:07.181481Z"
    }
   },
   "outputs": [
    {
     "name": "stdout",
     "output_type": "stream",
     "text": [
      "/tmp/stable-diffusion-webui-forge/extensions\n",
      "Cloning into 'sd-webui-deforum'...\n"
     ]
    },
    {
     "name": "stderr",
     "output_type": "stream",
     "text": [
      "/usr/local/lib/python3.10/dist-packages/IPython/core/magics/osm.py:417: UserWarning: This is now an optional IPython functionality, setting dhist requires you to install the `pickleshare` library.\n",
      "  self.shell.db['dhist'] = compress_dhist(dhist)[-100:]\n"
     ]
    },
    {
     "name": "stdout",
     "output_type": "stream",
     "text": [
      "remote: Enumerating objects: 14525, done.\u001b[K\n",
      "remote: Counting objects: 100% (14525/14525), done.\u001b[K\n",
      "remote: Compressing objects: 100% (5617/5617), done.\u001b[K\n",
      "remote: Total 14525 (delta 8948), reused 14259 (delta 8843), pack-reused 0\u001b[K\n",
      "Receiving objects: 100% (14525/14525), 128.12 MiB | 43.70 MiB/s, done.\n",
      "Resolving deltas: 100% (8948/8948), done.\n",
      "/tmp/stable-diffusion-webui-forge/extensions\n",
      "Cloning into 'sd-webui-prevent-artifact'...\n",
      "remote: Enumerating objects: 24, done.\u001b[K\n",
      "remote: Counting objects: 100% (24/24), done.\u001b[K\n",
      "remote: Compressing objects: 100% (20/20), done.\u001b[K\n",
      "remote: Total 24 (delta 6), reused 0 (delta 0), pack-reused 0\u001b[K\n",
      "Receiving objects: 100% (24/24), 20.27 KiB | 2.53 MiB/s, done.\n",
      "Resolving deltas: 100% (6/6), done.\n"
     ]
    }
   ],
   "source": [
    "# reforumのインストール\n",
    "%cd /tmp/stable-diffusion-webui-forge/extensions\n",
    "!git clone --branch reforum https://github.com/reallybigname/sd-webui-deforum.git\n",
    "\n",
    "# sd-webui-prevent-artifactのインストール\n",
    "%cd /tmp/stable-diffusion-webui-forge/extensions\n",
    "!git clone https://github.com/hako-mikan/sd-webui-prevent-artifact"
   ]
  },
  {
   "cell_type": "code",
   "execution_count": 2,
   "id": "3d21ab83-a028-468c-a0fd-995bf2366da1",
   "metadata": {
    "execution": {
     "iopub.execute_input": "2024-09-07T05:52:44.523244Z",
     "iopub.status.busy": "2024-09-07T05:52:44.522630Z",
     "iopub.status.idle": "2024-09-07T05:54:01.660018Z",
     "shell.execute_reply": "2024-09-07T05:54:01.659469Z",
     "shell.execute_reply.started": "2024-09-07T05:52:44.523219Z"
    }
   },
   "outputs": [
    {
     "name": "stdout",
     "output_type": "stream",
     "text": [
      "--2024-09-07 05:52:44--  https://huggingface.co/lllyasviel/sd_control_collection/resolve/main/ip-adapter_xl.pth?download=true\n",
      "Resolving huggingface.co (huggingface.co)... 18.238.49.70, 18.238.49.112, 18.238.49.117, ...\n",
      "Connecting to huggingface.co (huggingface.co)|18.238.49.70|:443... connected.\n",
      "HTTP request sent, awaiting response... 302 Found\n",
      "Location: https://cdn-lfs.huggingface.co/repos/81/40/814074e4bf63cffbabe9980993334f8d53d66ee7207b7d9a482c916296779bd7/c2e9f1ed4ff231b9f78de8158d63ac4b031e599d26d524e9171ccb9c16305fc3?response-content-disposition=attachment%3B+filename*%3DUTF-8%27%27ip-adapter_xl.pth%3B+filename%3D%22ip-adapter_xl.pth%22%3B&Expires=1725947564&Policy=eyJTdGF0ZW1lbnQiOlt7IkNvbmRpdGlvbiI6eyJEYXRlTGVzc1RoYW4iOnsiQVdTOkVwb2NoVGltZSI6MTcyNTk0NzU2NH19LCJSZXNvdXJjZSI6Imh0dHBzOi8vY2RuLWxmcy5odWdnaW5nZmFjZS5jby9yZXBvcy84MS80MC84MTQwNzRlNGJmNjNjZmZiYWJlOTk4MDk5MzMzNGY4ZDUzZDY2ZWU3MjA3YjdkOWE0ODJjOTE2Mjk2Nzc5YmQ3L2MyZTlmMWVkNGZmMjMxYjlmNzhkZTgxNThkNjNhYzRiMDMxZTU5OWQyNmQ1MjRlOTE3MWNjYjljMTYzMDVmYzM%7EcmVzcG9uc2UtY29udGVudC1kaXNwb3NpdGlvbj0qIn1dfQ__&Signature=W2mT0hq2S4NQ79PZ6uUIVB2RVBzfQKoMRqgl6oC%7EhzX4XaN0CkQnJgoXufXNthrsqxAFk7lY3kZwMQhlt3kpwNGsDg0L9QuhvL4T102KeWxGTUAnE2GtrnrZNuWI-4VTQzii8Hd9BcsHDFInC-LXXbGZAy4RfYWKvEumDtnbEtWcaT4mkAdGEqg4sBfnn9-cIyjdVRSiDId1QJ3GSmvzQsdD5pD4c%7EfzY-KUVQJFevou5Xeg9WMYpr3NmAHg-13MgAxRByG248cMURnalJK8v3OGAYgGnZCcZmmnJ4LVuS5awWkm4QyZKVfNFzYfMDf63nnbNNHpwJLZrk6exYnBTg__&Key-Pair-Id=K3ESJI6DHPFC7 [following]\n",
      "--2024-09-07 05:52:44--  https://cdn-lfs.huggingface.co/repos/81/40/814074e4bf63cffbabe9980993334f8d53d66ee7207b7d9a482c916296779bd7/c2e9f1ed4ff231b9f78de8158d63ac4b031e599d26d524e9171ccb9c16305fc3?response-content-disposition=attachment%3B+filename*%3DUTF-8%27%27ip-adapter_xl.pth%3B+filename%3D%22ip-adapter_xl.pth%22%3B&Expires=1725947564&Policy=eyJTdGF0ZW1lbnQiOlt7IkNvbmRpdGlvbiI6eyJEYXRlTGVzc1RoYW4iOnsiQVdTOkVwb2NoVGltZSI6MTcyNTk0NzU2NH19LCJSZXNvdXJjZSI6Imh0dHBzOi8vY2RuLWxmcy5odWdnaW5nZmFjZS5jby9yZXBvcy84MS80MC84MTQwNzRlNGJmNjNjZmZiYWJlOTk4MDk5MzMzNGY4ZDUzZDY2ZWU3MjA3YjdkOWE0ODJjOTE2Mjk2Nzc5YmQ3L2MyZTlmMWVkNGZmMjMxYjlmNzhkZTgxNThkNjNhYzRiMDMxZTU5OWQyNmQ1MjRlOTE3MWNjYjljMTYzMDVmYzM%7EcmVzcG9uc2UtY29udGVudC1kaXNwb3NpdGlvbj0qIn1dfQ__&Signature=W2mT0hq2S4NQ79PZ6uUIVB2RVBzfQKoMRqgl6oC%7EhzX4XaN0CkQnJgoXufXNthrsqxAFk7lY3kZwMQhlt3kpwNGsDg0L9QuhvL4T102KeWxGTUAnE2GtrnrZNuWI-4VTQzii8Hd9BcsHDFInC-LXXbGZAy4RfYWKvEumDtnbEtWcaT4mkAdGEqg4sBfnn9-cIyjdVRSiDId1QJ3GSmvzQsdD5pD4c%7EfzY-KUVQJFevou5Xeg9WMYpr3NmAHg-13MgAxRByG248cMURnalJK8v3OGAYgGnZCcZmmnJ4LVuS5awWkm4QyZKVfNFzYfMDf63nnbNNHpwJLZrk6exYnBTg__&Key-Pair-Id=K3ESJI6DHPFC7\n",
      "Resolving cdn-lfs.huggingface.co (cdn-lfs.huggingface.co)... 3.168.122.100, 3.168.122.86, 3.168.122.120, ...\n",
      "Connecting to cdn-lfs.huggingface.co (cdn-lfs.huggingface.co)|3.168.122.100|:443... connected.\n",
      "HTTP request sent, awaiting response... 200 OK\n",
      "Length: 702585021 (670M) [binary/octet-stream]\n",
      "Saving to: ‘ip-adapter_xl.pth’\n",
      "\n",
      "ip-adapter_xl.pth   100%[===================>] 670.04M  52.5MB/s    in 15s     \n",
      "\n",
      "2024-09-07 05:52:59 (45.8 MB/s) - ‘ip-adapter_xl.pth’ saved [702585021/702585021]\n",
      "\n",
      "--2024-09-07 05:52:59--  https://huggingface.co/TheMistoAI/MistoLine/resolve/main/mistoLine_fp16.safetensors?download=true\n",
      "Resolving huggingface.co (huggingface.co)... 18.238.49.117, 18.238.49.112, 18.238.49.10, ...\n",
      "Connecting to huggingface.co (huggingface.co)|18.238.49.117|:443... connected.\n",
      "HTTP request sent, awaiting response... 302 Found\n",
      "Location: https://cdn-lfs-us-1.huggingface.co/repos/44/da/44dae71fe6bdd893e19341b92087a03e37e4086f226a45c97e8f44489e5a5cfa/1df519349f3f2b6a3c6ff23127dd9b98a78e1f50628cf4037a5a9527c08b767c?response-content-disposition=attachment%3B+filename*%3DUTF-8%27%27mistoLine_fp16.safetensors%3B+filename%3D%22mistoLine_fp16.safetensors%22%3B&Expires=1725947579&Policy=eyJTdGF0ZW1lbnQiOlt7IkNvbmRpdGlvbiI6eyJEYXRlTGVzc1RoYW4iOnsiQVdTOkVwb2NoVGltZSI6MTcyNTk0NzU3OX19LCJSZXNvdXJjZSI6Imh0dHBzOi8vY2RuLWxmcy11cy0xLmh1Z2dpbmdmYWNlLmNvL3JlcG9zLzQ0L2RhLzQ0ZGFlNzFmZTZiZGQ4OTNlMTkzNDFiOTIwODdhMDNlMzdlNDA4NmYyMjZhNDVjOTdlOGY0NDQ4OWU1YTVjZmEvMWRmNTE5MzQ5ZjNmMmI2YTNjNmZmMjMxMjdkZDliOThhNzhlMWY1MDYyOGNmNDAzN2E1YTk1MjdjMDhiNzY3Yz9yZXNwb25zZS1jb250ZW50LWRpc3Bvc2l0aW9uPSoifV19&Signature=OdDKGMT0EZJaBY%7Elxi%7EoqZPd0HhHTUr%7EYN1j6cYAmQ1tuCXHoN9ogiTP4kdepzJFyiU7mt8M4cQKoVzu7D36Rs82DQ730z%7EIhvesB6mJJGB%7EGtuBpdAPkhv1WAHFlLBDlYceMNsjavkm6lb%7Ewyoyk1Zx%7EbX8OxGEtd3qxGNk-cwV8CuRRMkBepUPd3VLRHiVtJNyfQmxIMZU%7EIHj-Azmc1o%7Ek07YNIMhSwg32IN9FeLbKOKlRnr87MBavzsfWyWPBImIQVNZBEFiSxrTcvlSd%7EeeUpeLOtD44WOVMZRjUq3mPP5F5lTQnKUcJYxNZdX65aEbOBaNPJoWQcp7IKKE3Q__&Key-Pair-Id=K24J24Z295AEI9 [following]\n",
      "--2024-09-07 05:52:59--  https://cdn-lfs-us-1.huggingface.co/repos/44/da/44dae71fe6bdd893e19341b92087a03e37e4086f226a45c97e8f44489e5a5cfa/1df519349f3f2b6a3c6ff23127dd9b98a78e1f50628cf4037a5a9527c08b767c?response-content-disposition=attachment%3B+filename*%3DUTF-8%27%27mistoLine_fp16.safetensors%3B+filename%3D%22mistoLine_fp16.safetensors%22%3B&Expires=1725947579&Policy=eyJTdGF0ZW1lbnQiOlt7IkNvbmRpdGlvbiI6eyJEYXRlTGVzc1RoYW4iOnsiQVdTOkVwb2NoVGltZSI6MTcyNTk0NzU3OX19LCJSZXNvdXJjZSI6Imh0dHBzOi8vY2RuLWxmcy11cy0xLmh1Z2dpbmdmYWNlLmNvL3JlcG9zLzQ0L2RhLzQ0ZGFlNzFmZTZiZGQ4OTNlMTkzNDFiOTIwODdhMDNlMzdlNDA4NmYyMjZhNDVjOTdlOGY0NDQ4OWU1YTVjZmEvMWRmNTE5MzQ5ZjNmMmI2YTNjNmZmMjMxMjdkZDliOThhNzhlMWY1MDYyOGNmNDAzN2E1YTk1MjdjMDhiNzY3Yz9yZXNwb25zZS1jb250ZW50LWRpc3Bvc2l0aW9uPSoifV19&Signature=OdDKGMT0EZJaBY%7Elxi%7EoqZPd0HhHTUr%7EYN1j6cYAmQ1tuCXHoN9ogiTP4kdepzJFyiU7mt8M4cQKoVzu7D36Rs82DQ730z%7EIhvesB6mJJGB%7EGtuBpdAPkhv1WAHFlLBDlYceMNsjavkm6lb%7Ewyoyk1Zx%7EbX8OxGEtd3qxGNk-cwV8CuRRMkBepUPd3VLRHiVtJNyfQmxIMZU%7EIHj-Azmc1o%7Ek07YNIMhSwg32IN9FeLbKOKlRnr87MBavzsfWyWPBImIQVNZBEFiSxrTcvlSd%7EeeUpeLOtD44WOVMZRjUq3mPP5F5lTQnKUcJYxNZdX65aEbOBaNPJoWQcp7IKKE3Q__&Key-Pair-Id=K24J24Z295AEI9\n",
      "Resolving cdn-lfs-us-1.huggingface.co (cdn-lfs-us-1.huggingface.co)... 18.238.49.21, 18.238.49.97, 18.238.49.76, ...\n",
      "Connecting to cdn-lfs-us-1.huggingface.co (cdn-lfs-us-1.huggingface.co)|18.238.49.21|:443... connected.\n",
      "HTTP request sent, awaiting response... 200 OK\n",
      "Length: 2502139104 (2.3G) [binary/octet-stream]\n",
      "Saving to: ‘mistoLine_fp16.safetensors’\n",
      "\n",
      "mistoLine_fp16.safe 100%[===================>]   2.33G  38.9MB/s    in 57s     \n",
      "\n",
      "2024-09-07 05:53:57 (41.7 MB/s) - ‘mistoLine_fp16.safetensors’ saved [2502139104/2502139104]\n",
      "\n",
      "--2024-09-07 05:53:57--  https://huggingface.co/lllyasviel/sd_control_collection/resolve/main/diffusers_xl_depth_full.safetensors?download=true\n",
      "Resolving huggingface.co (huggingface.co)... 18.238.49.112, 18.238.49.70, 18.238.49.117, ...\n",
      "Connecting to huggingface.co (huggingface.co)|18.238.49.112|:443... connected.\n",
      "HTTP request sent, awaiting response... 302 Found\n",
      "Location: https://cdn-lfs.huggingface.co/repos/81/40/814074e4bf63cffbabe9980993334f8d53d66ee7207b7d9a482c916296779bd7/8ba4dfaa1958f1f68e5dc7f9839f9ef4e153aef0d330291e5cf966c925f97477?response-content-disposition=attachment%3B+filename*%3DUTF-8%27%27diffusers_xl_depth_full.safetensors%3B+filename%3D%22diffusers_xl_depth_full.safetensors%22%3B&Expires=1725947637&Policy=eyJTdGF0ZW1lbnQiOlt7IkNvbmRpdGlvbiI6eyJEYXRlTGVzc1RoYW4iOnsiQVdTOkVwb2NoVGltZSI6MTcyNTk0NzYzN319LCJSZXNvdXJjZSI6Imh0dHBzOi8vY2RuLWxmcy5odWdnaW5nZmFjZS5jby9yZXBvcy84MS80MC84MTQwNzRlNGJmNjNjZmZiYWJlOTk4MDk5MzMzNGY4ZDUzZDY2ZWU3MjA3YjdkOWE0ODJjOTE2Mjk2Nzc5YmQ3LzhiYTRkZmFhMTk1OGYxZjY4ZTVkYzdmOTgzOWY5ZWY0ZTE1M2FlZjBkMzMwMjkxZTVjZjk2NmM5MjVmOTc0Nzc%7EcmVzcG9uc2UtY29udGVudC1kaXNwb3NpdGlvbj0qIn1dfQ__&Signature=gwuzgS7G4d%7EVT9sVC4QlSuKrw7HaNX8BYG5lB370eOaG3PCQ1yydKf%7Eq6FNspNkvS6aT-BZSRvnLSnn2qHLRfBEkyEW21GVv3EBSuMnFIjjE33dQ0pD3WgDMA7FJpkEJ6EQ9pu3QhI8k5eZfvk2IVtTsl97TVi7uqtQMUQimsxIbAEzHPk7CmmsMyoQQZkzD997FJ%7E2dScejjUqSUUX71dmZaqz%7E1saC9Oy1vMkEAiTpqmr1OLdkqITACyuz8bU--ygNX%7EtMqD94kFx3%7EuJhydaoaiwNWuGRq87uewaPxsV2OhWX5LbbIdKC4Q-oF4TmP95Fer0kVuLtoOyBfw%7EX6Q__&Key-Pair-Id=K3ESJI6DHPFC7 [following]\n",
      "--2024-09-07 05:53:57--  https://cdn-lfs.huggingface.co/repos/81/40/814074e4bf63cffbabe9980993334f8d53d66ee7207b7d9a482c916296779bd7/8ba4dfaa1958f1f68e5dc7f9839f9ef4e153aef0d330291e5cf966c925f97477?response-content-disposition=attachment%3B+filename*%3DUTF-8%27%27diffusers_xl_depth_full.safetensors%3B+filename%3D%22diffusers_xl_depth_full.safetensors%22%3B&Expires=1725947637&Policy=eyJTdGF0ZW1lbnQiOlt7IkNvbmRpdGlvbiI6eyJEYXRlTGVzc1RoYW4iOnsiQVdTOkVwb2NoVGltZSI6MTcyNTk0NzYzN319LCJSZXNvdXJjZSI6Imh0dHBzOi8vY2RuLWxmcy5odWdnaW5nZmFjZS5jby9yZXBvcy84MS80MC84MTQwNzRlNGJmNjNjZmZiYWJlOTk4MDk5MzMzNGY4ZDUzZDY2ZWU3MjA3YjdkOWE0ODJjOTE2Mjk2Nzc5YmQ3LzhiYTRkZmFhMTk1OGYxZjY4ZTVkYzdmOTgzOWY5ZWY0ZTE1M2FlZjBkMzMwMjkxZTVjZjk2NmM5MjVmOTc0Nzc%7EcmVzcG9uc2UtY29udGVudC1kaXNwb3NpdGlvbj0qIn1dfQ__&Signature=gwuzgS7G4d%7EVT9sVC4QlSuKrw7HaNX8BYG5lB370eOaG3PCQ1yydKf%7Eq6FNspNkvS6aT-BZSRvnLSnn2qHLRfBEkyEW21GVv3EBSuMnFIjjE33dQ0pD3WgDMA7FJpkEJ6EQ9pu3QhI8k5eZfvk2IVtTsl97TVi7uqtQMUQimsxIbAEzHPk7CmmsMyoQQZkzD997FJ%7E2dScejjUqSUUX71dmZaqz%7E1saC9Oy1vMkEAiTpqmr1OLdkqITACyuz8bU--ygNX%7EtMqD94kFx3%7EuJhydaoaiwNWuGRq87uewaPxsV2OhWX5LbbIdKC4Q-oF4TmP95Fer0kVuLtoOyBfw%7EX6Q__&Key-Pair-Id=K3ESJI6DHPFC7\n",
      "Resolving cdn-lfs.huggingface.co (cdn-lfs.huggingface.co)... 3.168.122.100, 3.168.122.2, 3.168.122.120, ...\n",
      "Connecting to cdn-lfs.huggingface.co (cdn-lfs.huggingface.co)|3.168.122.100|:443... connected.\n",
      "HTTP request sent, awaiting response... 200 OK\n",
      "Length: 2502139104 (2.3G) [binary/octet-stream]\n",
      "Saving to: ‘diffusers_xl_depth_full.safetensors’\n",
      "\n",
      "diffusers_xl_depth_ 100%[===================>]   2.33G   537MB/s    in 4.3s    \n",
      "\n",
      "2024-09-07 05:54:01 (555 MB/s) - ‘diffusers_xl_depth_full.safetensors’ saved [2502139104/2502139104]\n",
      "\n"
     ]
    }
   ],
   "source": [
    "# コントロールネットip-adapter\n",
    "!cd /tmp/stable-diffusion-webui-forge/models/ControlNet && \\\n",
    "wget -nc https://huggingface.co/lllyasviel/sd_control_collection/resolve/main/ip-adapter_xl.pth?download=true -O ip-adapter_xl.pth\n",
    "\n",
    "# コントロールネットmistoline\n",
    "!cd /tmp/stable-diffusion-webui-forge/models/ControlNet && \\\n",
    "wget -nc https://huggingface.co/TheMistoAI/MistoLine/resolve/main/mistoLine_fp16.safetensors?download=true -O mistoLine_fp16.safetensors\n",
    "\n",
    "# コントロールネットDEPTH\n",
    "!cd /tmp/stable-diffusion-webui-forge/models/ControlNet && \\\n",
    "wget -nc https://huggingface.co/lllyasviel/sd_control_collection/resolve/main/diffusers_xl_depth_full.safetensors?download=true -O diffusers_xl_depth_full.safetensors"
   ]
  }
 ],
 "metadata": {
  "kernelspec": {
   "display_name": "Python 3 (ipykernel)",
   "language": "python",
   "name": "python3"
  },
  "language_info": {
   "codemirror_mode": {
    "name": "ipython",
    "version": 3
   },
   "file_extension": ".py",
   "mimetype": "text/x-python",
   "name": "python",
   "nbconvert_exporter": "python",
   "pygments_lexer": "ipython3",
   "version": "3.10.12"
  }
 },
 "nbformat": 4,
 "nbformat_minor": 5
}
