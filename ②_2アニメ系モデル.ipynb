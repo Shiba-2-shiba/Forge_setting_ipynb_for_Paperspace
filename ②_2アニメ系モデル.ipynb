{
 "cells": [
  {
   "cell_type": "markdown",
   "id": "9e42bc1e-9825-4587-b533-c74607b1a377",
   "metadata": {},
   "source": [
    "## モデルアニメ系\n"
   ]
  },
  {
   "cell_type": "code",
   "execution_count": 1,
   "id": "6381569a-51b4-4303-a623-7f0b70104889",
   "metadata": {
    "execution": {
     "iopub.execute_input": "2024-12-12T21:40:30.468691Z",
     "iopub.status.busy": "2024-12-12T21:40:30.468422Z",
     "iopub.status.idle": "2024-12-12T21:55:40.965075Z",
     "shell.execute_reply": "2024-12-12T21:55:40.964495Z",
     "shell.execute_reply.started": "2024-12-12T21:40:30.468662Z"
    }
   },
   "outputs": [
    {
     "name": "stdout",
     "output_type": "stream",
     "text": [
      "Downloading model.safetensors from text_encoder:   0%|   | 0/100 [00:06<?, ?%/s]\n",
      "Downloading model.safetensors from text_encoder_2:   0%| | 0/100 [00:33<?, ?%/s]\n",
      "Downloading diffusion_pytorch_model.safetensors from unet:   0%| | 0/100 [02:02<\n",
      "Downloading diffusion_pytorch_model.safetensors from vae:   0%| | 0/100 [00:04<?\n",
      "Converting model:   0%|                                  | 0/100 [00:13<?, ?%/s]\n",
      "Directory successfully deleted\n",
      "Downloading model.safetensors from text_encoder:   0%|   | 0/100 [00:06<?, ?%/s]\n",
      "Downloading model.safetensors from text_encoder_2:   0%| | 0/100 [00:33<?, ?%/s]\n",
      "Downloading diffusion_pytorch_model.safetensors from unet:   0%| | 0/100 [02:02<\n",
      "Downloading diffusion_pytorch_model.safetensors from vae:   0%| | 0/100 [00:04<?\n",
      "Converting model:   0%|                                  | 0/100 [00:13<?, ?%/s]\n",
      "Directory successfully deleted\n",
      "Downloading model.safetensors from text_encoder:   0%|   | 0/100 [00:06<?, ?%/s]\n",
      "Downloading model.safetensors from text_encoder_2:   0%| | 0/100 [00:33<?, ?%/s]\n",
      "Downloading diffusion_pytorch_model.safetensors from unet:   0%| | 0/100 [02:02<\n",
      "Downloading diffusion_pytorch_model.safetensors from vae:   0%| | 0/100 [00:04<?\n",
      "Converting model:   0%|                                  | 0/100 [00:12<?, ?%/s]\n",
      "Directory successfully deleted\n",
      "Downloading model.safetensors from text_encoder:   0%|   | 0/100 [00:06<?, ?%/s]\n",
      "Downloading model.safetensors from text_encoder_2:   0%| | 0/100 [00:32<?, ?%/s]\n",
      "Downloading diffusion_pytorch_model.safetensors from unet:   0%| | 0/100 [02:02<\n",
      "Downloading diffusion_pytorch_model.safetensors from vae:   0%| | 0/100 [00:04<?\n",
      "Converting model:   0%|                                  | 0/100 [00:16<?, ?%/s]\n",
      "Directory successfully deleted\n",
      "Downloading model.safetensors from text_encoder:   0%|   | 0/100 [00:06<?, ?%/s]\n",
      "Downloading model.safetensors from text_encoder_2:   0%| | 0/100 [00:33<?, ?%/s]\n",
      "Downloading diffusion_pytorch_model.safetensors from unet:   0%| | 0/100 [02:02<\n",
      "Downloading diffusion_pytorch_model.safetensors from vae:   0%| | 0/100 [00:04<?\n",
      "Converting model:   0%|                                  | 0/100 [00:15<?, ?%/s]\n",
      "Directory successfully deleted\n"
     ]
    }
   ],
   "source": [
    "!python3 /usr/src/app/modeldownload_from_hugginface.py \"https://huggingface.co/John6666/cat-tower-noobai-xl-checkpoint-v14vpred-sdxl/resolve/main\" \"/tmp/stable-diffusion-webui-forge/models/Stable-diffusion/cat-tower-noobai-xl-checkpoint-v14vpred-sdxl\"\n",
    "!python3 /usr/src/app/modeldownload_from_hugginface.py \"https://huggingface.co/John6666/hassaku-xl-illustrious-v10style-sdxl/resolve/main\" \"/tmp/stable-diffusion-webui-forge/models/Stable-diffusion/hassaku-xl-illustrious-v10style-sdxl\"\n",
    "!python3 /usr/src/app/modeldownload_from_hugginface.py \"https://huggingface.co/John6666/realism-illustrious-by-stable-yogi-v11-sdxl/resolve/main\" \"/tmp/stable-diffusion-webui-forge/models/Stable-diffusion/realism-illustrious-by-stable-yogi-v11-sdxl\"\n",
    "!python3 /usr/src/app/modeldownload_from_hugginface.py \"https://huggingface.co/John6666/rouwei-cyberfix-061vpredcyberfix-sdxl/resolve/main\" \"/tmp/stable-diffusion-webui-forge/models/Stable-diffusion/rouwei-cyberfix-061vpredcyberfix-sdxl\"\n",
    "!python3 /usr/src/app/modeldownload_from_hugginface.py \"https://huggingface.co/John6666/zuki-cute-ill-v20-sdxl/resolve/main\" \"/tmp/stable-diffusion-webui-forge/models/Stable-diffusion/zuki-cute-ill-v20-sdxl\""
   ]
  }
 ],
 "metadata": {
  "kernelspec": {
   "display_name": "Python 3 (ipykernel)",
   "language": "python",
   "name": "python3"
  },
  "language_info": {
   "codemirror_mode": {
    "name": "ipython",
    "version": 3
   },
   "file_extension": ".py",
   "mimetype": "text/x-python",
   "name": "python",
   "nbconvert_exporter": "python",
   "pygments_lexer": "ipython3",
   "version": "3.10.12"
  }
 },
 "nbformat": 4,
 "nbformat_minor": 5
}
