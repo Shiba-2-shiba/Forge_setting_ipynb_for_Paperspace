{
 "cells": [
  {
   "cell_type": "markdown",
   "id": "9e42bc1e-9825-4587-b533-c74607b1a377",
   "metadata": {},
   "source": [
    "## Loraとembbedingをコピーする\n"
   ]
  },
  {
   "cell_type": "code",
   "execution_count": 1,
   "id": "6381569a-51b4-4303-a623-7f0b70104889",
   "metadata": {
    "execution": {
     "iopub.execute_input": "2024-12-02T07:34:14.310543Z",
     "iopub.status.busy": "2024-12-02T07:34:14.309993Z",
     "iopub.status.idle": "2024-12-02T07:34:21.615430Z",
     "shell.execute_reply": "2024-12-02T07:34:21.614731Z",
     "shell.execute_reply.started": "2024-12-02T07:34:14.310520Z"
    }
   },
   "outputs": [],
   "source": [
    "!cp -r /usr/src/app/loras/* /tmp/stable-diffusion-webui-forge/models/Lora\n",
    "!cp -r /usr/src/app/embeddings/* /tmp/stable-diffusion-webui-forge/embeddings\n"
   ]
  },
  {
   "cell_type": "code",
   "execution_count": 9,
   "id": "6522e499-6427-415c-a3ac-86b59908a725",
   "metadata": {
    "execution": {
     "iopub.execute_input": "2024-12-13T09:51:04.244114Z",
     "iopub.status.busy": "2024-12-13T09:51:04.243342Z",
     "iopub.status.idle": "2024-12-13T09:51:06.218577Z",
     "shell.execute_reply": "2024-12-13T09:51:06.217908Z",
     "shell.execute_reply.started": "2024-12-13T09:51:04.244085Z"
    }
   },
   "outputs": [
    {
     "name": "stdout",
     "output_type": "stream",
     "text": [
      "すべての変換が完了しました。\n"
     ]
    }
   ],
   "source": [
    "#fp8化コマンド\n",
    "!mkdir -p /tmp/ComfyUI/models/checkpoints\n",
    "\n",
    "# シンボリックリンクの作成\n",
    "!ln -s /tmp/stable-diffusion-webui-forge/models/Stable-diffusion /tmp/ComfyUI/models/checkpoints\n",
    "\n",
    "# スクリプトの実行\n",
    "!python3 /usr/src/app/model_convert_to_fp8.py\n"
   ]
  },
  {
   "cell_type": "code",
   "execution_count": 5,
   "id": "e377ed0f-16be-4962-84fe-046db1089fbb",
   "metadata": {
    "execution": {
     "iopub.execute_input": "2024-12-13T09:43:11.119452Z",
     "iopub.status.busy": "2024-12-13T09:43:11.118494Z",
     "iopub.status.idle": "2024-12-13T09:43:11.229793Z",
     "shell.execute_reply": "2024-12-13T09:43:11.229257Z",
     "shell.execute_reply.started": "2024-12-13T09:43:11.119424Z"
    }
   },
   "outputs": [
    {
     "name": "stdout",
     "output_type": "stream",
     "text": [
      "'Put Stable Diffusion checkpoints here.txt'\n",
      " cat-tower-noobai-xl-checkpoint-v14vpred-sdxl.safetensors\n",
      " hassaku-xl-illustrious-v10style-sdxl.safetensors\n",
      " obsession-illustriousxl-v31-sdxl\n",
      " realism-illustrious-by-stable-yogi-v11-sdxl.safetensors\n",
      " rouwei-cyberfix-061vpredcyberfix-sdxl.safetensors\n",
      " zuki-cute-ill-v20-sdxl.safetensors\n"
     ]
    }
   ],
   "source": [
    "!ls /tmp/stable-diffusion-webui-forge/models/Stable-diffusion"
   ]
  }
 ],
 "metadata": {
  "kernelspec": {
   "display_name": "Python 3 (ipykernel)",
   "language": "python",
   "name": "python3"
  },
  "language_info": {
   "codemirror_mode": {
    "name": "ipython",
    "version": 3
   },
   "file_extension": ".py",
   "mimetype": "text/x-python",
   "name": "python",
   "nbconvert_exporter": "python",
   "pygments_lexer": "ipython3",
   "version": "3.10.12"
  }
 },
 "nbformat": 4,
 "nbformat_minor": 5
}
