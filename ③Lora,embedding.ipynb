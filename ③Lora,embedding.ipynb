{
 "cells": [
  {
   "cell_type": "markdown",
   "id": "9e42bc1e-9825-4587-b533-c74607b1a377",
   "metadata": {},
   "source": [
    "## モデルアニメ系\n"
   ]
  },
  {
   "cell_type": "code",
   "execution_count": 1,
   "id": "6381569a-51b4-4303-a623-7f0b70104889",
   "metadata": {
    "execution": {
     "iopub.execute_input": "2024-12-02T07:34:14.310543Z",
     "iopub.status.busy": "2024-12-02T07:34:14.309993Z",
     "iopub.status.idle": "2024-12-02T07:34:21.615430Z",
     "shell.execute_reply": "2024-12-02T07:34:21.614731Z",
     "shell.execute_reply.started": "2024-12-02T07:34:14.310520Z"
    }
   },
   "outputs": [],
   "source": [
    "!cp -r /usr/src/app/loras/* /tmp/stable-diffusion-webui-forge/models/Lora\n",
    "!cp -r /usr/src/app/embeddings/* /tmp/stable-diffusion-webui-forge/embeddings\n"
   ]
  },
  {
   "cell_type": "code",
   "execution_count": 1,
   "id": "c549702e-7e03-478a-9ccb-49d76de1d80e",
   "metadata": {
    "execution": {
     "iopub.execute_input": "2024-11-22T00:28:55.779879Z",
     "iopub.status.busy": "2024-11-22T00:28:55.779053Z",
     "iopub.status.idle": "2024-11-22T00:28:55.902499Z",
     "shell.execute_reply": "2024-11-22T00:28:55.901556Z",
     "shell.execute_reply.started": "2024-11-22T00:28:55.779849Z"
    }
   },
   "outputs": [
    {
     "name": "stdout",
     "output_type": "stream",
     "text": [
      "Deforum-Studio-Presets\t\t       mainppsComfy_311.py\n",
      "FLUXmodeldownload_from_hugginface.py   model_convert_to_fp8.py\n",
      "Hybrid-Video\t\t\t       modeldownload_from_hugginface.py\n",
      "convert_diffusers_to_original_sdxl.py  motionlora\n",
      "embeddings\t\t\t       pytorch_model.safetensors.index.json\n",
      "flux1loras\t\t\t       safetensors_convert_GGUF.py\n",
      "llama.cpp\t\t\t       wildcards\n",
      "loras\n"
     ]
    }
   ],
   "source": [
    "!ls /usr/src/app/"
   ]
  },
  {
   "cell_type": "code",
   "execution_count": 10,
   "id": "adc78128-7246-4e72-9b4e-01ad44ea0521",
   "metadata": {
    "execution": {
     "iopub.execute_input": "2024-11-28T08:12:21.543656Z",
     "iopub.status.busy": "2024-11-28T08:12:21.543126Z",
     "iopub.status.idle": "2024-11-28T08:12:21.655092Z",
     "shell.execute_reply": "2024-11-28T08:12:21.654351Z",
     "shell.execute_reply.started": "2024-11-28T08:12:21.543634Z"
    }
   },
   "outputs": [
    {
     "name": "stdout",
     "output_type": "stream",
     "text": [
      "__pycache__  forge_app.py  huggingface_space_mirror  space_meta.json\n"
     ]
    }
   ],
   "source": [
    "!ls /tmp/stable-diffusion-webui-forge/extensions-builtin/forge_space_florence_2/forge_app.py"
   ]
  },
  {
   "cell_type": "code",
   "execution_count": 2,
   "id": "e377ed0f-16be-4962-84fe-046db1089fbb",
   "metadata": {
    "execution": {
     "iopub.execute_input": "2024-11-22T01:08:04.032525Z",
     "iopub.status.busy": "2024-11-22T01:08:04.031982Z",
     "iopub.status.idle": "2024-11-22T01:08:04.176979Z",
     "shell.execute_reply": "2024-11-22T01:08:04.176156Z",
     "shell.execute_reply.started": "2024-11-22T01:08:04.032499Z"
    }
   },
   "outputs": [
    {
     "name": "stdout",
     "output_type": "stream",
     "text": [
      "Classic-30s.txt\t\t       Grids-30s.txt\n",
      "Classic-3D-Motion-2-30s.txt    Grids.txt\n",
      "Classic-3D-Motion-2.txt        Look-Around-30s.txt\n",
      "Classic-3D-Motion-3-30s.txt    Look-Around.txt\n",
      "Classic-3D-Motion-3.txt        Move-Around-30s.txt\n",
      "Classic-3D-Motion-30s.txt      Move-Around.txt\n",
      "Classic-3D-Motion-4-30s.txt    Move-Down-30s.txt\n",
      "Classic-3D-Motion-4.txt        Move-Down.txt\n",
      "Classic-3D-Motion.txt\t       Move-Float-30s.txt\n",
      "Classic-Stop-Motion-2-30s.txt  Move-Float.txt\n",
      "Classic-Stop-Motion-2.txt      Move-In-out-30s.txt\n",
      "Classic-Stop-Motion-30s.txt    Move-In-out.txt\n",
      "Classic-Stop-Motion.txt        Move-Left-30s.txt\n",
      "Classic-Zoom-In-30s.txt        Move-Left.txt\n",
      "Classic-Zoom-In.txt\t       Move-Right-30s.txt\n",
      "Classic-Zoom-Out-30s.txt       Move-Right.txt\n",
      "Classic-Zoom-Out.txt\t       Move-Up-30s.txt\n",
      "Classic.txt\t\t       Move-Up.txt\n",
      "Dolly-Zoom-Out-30s.txt\t       Move-Warp-2-30s.txt\n",
      "Dolly-Zoom-Out.txt\t       Move-Warp-2.txt\n",
      "Elastic-Vision-30s.txt\t       Move-Warp-30s.txt\n",
      "Elastic-Vision.txt\t       Move-Warp.txt\n",
      "Evolve-Fast-30s.txt\t       Quick-Change-30s.txt\n",
      "Evolve-Fast.txt\t\t       Quick-Change.txt\n",
      "Evolve-Glitch-2-30s.txt        Revolve-30s.txt\n",
      "Evolve-Glitch-2.txt\t       Revolve.txt\n",
      "Evolve-Glitch-30s.txt\t       Scene-Change-2-30s.txt\n",
      "Evolve-Glitch.txt\t       Scene-Change-2.txt\n",
      "Evolve-Pulse-2-30s.txt\t       Scene-Change-30s.txt\n",
      "Evolve-Pulse-2.txt\t       Scene-Change.txt\n",
      "Evolve-Pulse-30s.txt\t       Shapes-Circles-30s.txt\n",
      "Evolve-Pulse-Glitch-30s.txt    Shapes-Circles.txt\n",
      "Evolve-Pulse-Glitch.txt        Shapes-Hexagons-30s.txt\n",
      "Evolve-Pulse.txt\t       Shapes-Hexagons.txt\n",
      "Evolve-Slow-2-30s.txt\t       Shapes-Kaleidoscope-30s.txt\n",
      "Evolve-Slow-2.txt\t       Shapes-Kaleidoscope.txt\n",
      "Evolve-Slow-30s.txt\t       Shapes-Squares-30s.txt\n",
      "Evolve-Slow.txt\t\t       Shapes-Squares.txt\n",
      "Evolve-Zoom-Slow-30s.txt       Shapes-Stars-30s.txt\n",
      "Evolve-Zoom-Slow.txt\t       Shapes-Stars.txt\n",
      "Flashbacks-30s.txt\t       Spacewalk-30s.txt\n",
      "Flashbacks.txt\t\t       Spacewalk.txt\n",
      "Fly-Through-2-30s.txt\t       Transitions.txt\n",
      "Fly-Through-2.txt\t       Zoom-In-Out-30s.txt\n",
      "Fly-Through-30s.txt\t       Zoom-In-Out.txt\n",
      "Fly-Through-Spin-30s.txt       Zoom-To-New-30s.txt\n",
      "Fly-Through-Spin.txt\t       Zoom-To-New.txt\n",
      "Fly-Through.txt\n"
     ]
    }
   ],
   "source": [
    "!ls /usr/src/app/Deforum-Studio-Presets\t"
   ]
  },
  {
   "cell_type": "code",
   "execution_count": 5,
   "id": "b4ba172e-3f08-4401-b9ce-d14b2f2fbf3e",
   "metadata": {
    "execution": {
     "iopub.execute_input": "2024-11-22T19:24:56.848415Z",
     "iopub.status.busy": "2024-11-22T19:24:56.847441Z",
     "iopub.status.idle": "2024-11-22T19:24:56.960537Z",
     "shell.execute_reply": "2024-11-22T19:24:56.959993Z",
     "shell.execute_reply.started": "2024-11-22T19:24:56.848380Z"
    }
   },
   "outputs": [
    {
     "name": "stdout",
     "output_type": "stream",
     "text": [
      "114763196.jpg\t\t       depth_leres.py\t       rendering\n",
      "RAFT.py\t\t\t       depth_midas.py\t       resume.py\n",
      "__pycache__\t\t       depth_zoe.py\t       rich.py\n",
      "animation.py\t\t       frame_interpolation.py  run_deforum.py\n",
      "animation_key_frames.py        general_utils.py        save_images.py\n",
      "args.py\t\t\t       generate.py\t       seed.py\n",
      "auto_navigation.py\t       gradio_funcs.py\t       settings.py\n",
      "colors.py\t\t       http_client.py\t       src\n",
      "composable_masks.py\t       human_masking.py        subtitle_handler.py\n",
      "consistency_check.py\t       hybrid_video.py\t       ui_elements.py\n",
      "defaults.py\t\t       image_sharpening.py     ui_left.py\n",
      "deforum_controlnet.py\t       load_images.py\t       ui_right.py\n",
      "deforum_controlnet_gradio.py   masks.py\t\t       ui_settings.py\n",
      "deforum_controlnet_gradio.pyi  noise.py\t\t       upscaling.py\n",
      "deforum_scripts_overrides.py   opts_overrider.py       vid2depth.py\n",
      "deforum_tqdm.py\t\t       parseq_adapter.py       video_audio_utilities.py\n",
      "deprecation_utils.py\t       parseq_adapter_test.py  webui_sd_pipeline.py\n",
      "depth.py\t\t       prompt.py\t       word_masking.py\n",
      "depth_adabins.py\t       render.py\n",
      "depth_anything_v2.py\t       render_modes.py\n"
     ]
    }
   ],
   "source": [
    "!ls /tmp/stable-diffusion-webui-forge/extensions/sd-forge-deforum/scripts/deforum_helpers/depth_anything_v2.py"
   ]
  }
 ],
 "metadata": {
  "kernelspec": {
   "display_name": "Python 3 (ipykernel)",
   "language": "python",
   "name": "python3"
  },
  "language_info": {
   "codemirror_mode": {
    "name": "ipython",
    "version": 3
   },
   "file_extension": ".py",
   "mimetype": "text/x-python",
   "name": "python",
   "nbconvert_exporter": "python",
   "pygments_lexer": "ipython3",
   "version": "3.10.12"
  }
 },
 "nbformat": 4,
 "nbformat_minor": 5
}
