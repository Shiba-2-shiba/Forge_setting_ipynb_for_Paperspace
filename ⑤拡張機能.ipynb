{
 "cells": [
  {
   "cell_type": "code",
   "execution_count": null,
   "id": "1d8d6536-e549-4930-a9c0-f78e9736b1dd",
   "metadata": {
    "execution": {
     "iopub.execute_input": "2024-12-13T08:52:01.219459Z",
     "iopub.status.busy": "2024-12-13T08:52:01.218955Z",
     "iopub.status.idle": "2024-12-13T08:52:01.337075Z",
     "shell.execute_reply": "2024-12-13T08:52:01.336305Z",
     "shell.execute_reply.started": "2024-12-13T08:52:01.219432Z"
    }
   },
   "outputs": [],
   "source": [
    "!ls /usr/src/app/\n"
   ]
  },
  {
   "cell_type": "code",
   "execution_count": null,
   "id": "b156c9c8-92ec-44e9-9380-a67dbca79038",
   "metadata": {
    "execution": {
     "iopub.execute_input": "2024-08-24T20:08:13.521556Z",
     "iopub.status.busy": "2024-08-24T20:08:13.521014Z",
     "iopub.status.idle": "2024-08-24T20:08:13.636134Z",
     "shell.execute_reply": "2024-08-24T20:08:13.635306Z",
     "shell.execute_reply.started": "2024-08-24T20:08:13.521527Z"
    }
   },
   "outputs": [],
   "source": [
    "!pip install timm==0.6.7"
   ]
  },
  {
   "cell_type": "code",
   "execution_count": null,
   "id": "7e93dbc1-fc37-4185-8169-9337416f4f17",
   "metadata": {
    "execution": {
     "iopub.execute_input": "2024-11-22T20:59:52.704266Z",
     "iopub.status.busy": "2024-11-22T20:59:52.703950Z",
     "iopub.status.idle": "2024-11-22T20:59:52.817045Z",
     "shell.execute_reply": "2024-11-22T20:59:52.816271Z",
     "shell.execute_reply.started": "2024-11-22T20:59:52.704243Z"
    }
   },
   "outputs": [],
   "source": [
    "!sed -i 's|depth-anything/Depth-Anything-V2-Small-hf|depth-anything/Depth-Anything-V2-Base|' /tmp/stable-diffusion-webui-forge/extensions/sd-forge-deforum/scripts/deforum_helpers/depth_anything_v2.py\n"
   ]
  },
  {
   "cell_type": "code",
   "execution_count": null,
   "id": "2ebed44d-3d10-4321-954e-dd8d29e34b0a",
   "metadata": {
    "execution": {
     "iopub.execute_input": "2024-08-25T06:50:45.393010Z",
     "iopub.status.busy": "2024-08-25T06:50:45.392356Z",
     "iopub.status.idle": "2024-08-25T06:50:57.400193Z",
     "shell.execute_reply": "2024-08-25T06:50:57.399440Z",
     "shell.execute_reply.started": "2024-08-25T06:50:45.392985Z"
    }
   },
   "outputs": [],
   "source": [
    "%cd /tmp/stable-diffusion-webui-forge/extensions\n",
    "!git clone https://github.com/DenOfEquity/forgeFlux_dualPrompt.git\n"
   ]
  }
 ],
 "metadata": {
  "kernelspec": {
   "display_name": "Python 3 (ipykernel)",
   "language": "python",
   "name": "python3"
  },
  "language_info": {
   "codemirror_mode": {
    "name": "ipython",
    "version": 3
   },
   "file_extension": ".py",
   "mimetype": "text/x-python",
   "name": "python",
   "nbconvert_exporter": "python",
   "pygments_lexer": "ipython3",
   "version": "3.10.12"
  }
 },
 "nbformat": 4,
 "nbformat_minor": 5
}
