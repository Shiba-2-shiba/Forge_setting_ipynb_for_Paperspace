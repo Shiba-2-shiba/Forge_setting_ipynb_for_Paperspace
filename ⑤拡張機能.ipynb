{
 "cells": [
  {
   "cell_type": "code",
   "execution_count": null,
   "id": "2ebed44d-3d10-4321-954e-dd8d29e34b0a",
   "metadata": {
    "execution": {
     "iopub.execute_input": "2024-08-25T06:50:45.393010Z",
     "iopub.status.busy": "2024-08-25T06:50:45.392356Z",
     "iopub.status.idle": "2024-08-25T06:50:57.400193Z",
     "shell.execute_reply": "2024-08-25T06:50:57.399440Z",
     "shell.execute_reply.started": "2024-08-25T06:50:45.392985Z"
    }
   },
   "outputs": [],
   "source": [
    "%cd /tmp/stable-diffusion-webui-forge/extensions\n",
    "!git clone https://github.com/DenOfEquity/forgeFlux_dualPrompt.git\n"
   ]
  }
 ],
 "metadata": {
  "kernelspec": {
   "display_name": "Python 3 (ipykernel)",
   "language": "python",
   "name": "python3"
  },
  "language_info": {
   "codemirror_mode": {
    "name": "ipython",
    "version": 3
   },
   "file_extension": ".py",
   "mimetype": "text/x-python",
   "name": "python",
   "nbconvert_exporter": "python",
   "pygments_lexer": "ipython3",
   "version": "3.10.12"
  }
 },
 "nbformat": 4,
 "nbformat_minor": 5
}
