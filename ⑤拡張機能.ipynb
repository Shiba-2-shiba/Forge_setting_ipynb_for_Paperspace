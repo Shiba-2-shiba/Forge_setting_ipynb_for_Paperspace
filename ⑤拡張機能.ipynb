{
 "cells": [
  {
   "cell_type": "code",
   "execution_count": 2,
   "id": "2ebed44d-3d10-4321-954e-dd8d29e34b0a",
   "metadata": {
    "execution": {
     "iopub.execute_input": "2024-12-30T07:11:54.615957Z",
     "iopub.status.busy": "2024-12-30T07:11:54.615320Z",
     "iopub.status.idle": "2024-12-30T07:12:00.590834Z",
     "shell.execute_reply": "2024-12-30T07:12:00.590193Z",
     "shell.execute_reply.started": "2024-12-30T07:11:54.615920Z"
    }
   },
   "outputs": [
    {
     "name": "stdout",
     "output_type": "stream",
     "text": [
      "/tmp/stable-diffusion-webui-forge/extensions\n",
      "fatal: destination path 'forgeFlux_dualPrompt' already exists and is not an empty directory.\n",
      "/tmp/stable-diffusion-webui-forge/extensions\n",
      "fatal: destination path 'z-tipo-extension' already exists and is not an empty directory.\n",
      "/tmp/stable-diffusion-webui-forge/extensions\n",
      "Cloning into 'sd-forge-deforum'...\n",
      "remote: Enumerating objects: 15709, done.\u001b[K\n",
      "remote: Counting objects: 100% (283/283), done.\u001b[K\n",
      "remote: Compressing objects: 100% (182/182), done.\u001b[K\n",
      "remote: Total 15709 (delta 179), reused 171 (delta 101), pack-reused 15426 (from 2)\u001b[K\n",
      "Receiving objects: 100% (15709/15709), 129.79 MiB | 27.93 MiB/s, done.\n",
      "Resolving deltas: 100% (9818/9818), done.\n"
     ]
    }
   ],
   "source": [
    "%cd /tmp/stable-diffusion-webui-forge/extensions\n",
    "!git clone https://github.com/DenOfEquity/forgeFlux_dualPrompt.git\n",
    "\n",
    "%cd /tmp/stable-diffusion-webui-forge/extensions\n",
    "!git clone https://github.com/KohakuBlueleaf/z-tipo-extension.git\n",
    "\n",
    "%cd /tmp/stable-diffusion-webui-forge/extensions\n",
    "!git clone https://github.com/Tok/sd-forge-deforum.git\n",
    "\n"
   ]
  }
 ],
 "metadata": {
  "kernelspec": {
   "display_name": "Python 3 (ipykernel)",
   "language": "python",
   "name": "python3"
  },
  "language_info": {
   "codemirror_mode": {
    "name": "ipython",
    "version": 3
   },
   "file_extension": ".py",
   "mimetype": "text/x-python",
   "name": "python",
   "nbconvert_exporter": "python",
   "pygments_lexer": "ipython3",
   "version": "3.10.12"
  }
 },
 "nbformat": 4,
 "nbformat_minor": 5
}
